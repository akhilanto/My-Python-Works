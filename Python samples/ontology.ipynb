{
 "cells": [
  {
   "cell_type": "code",
   "execution_count": 1,
   "metadata": {},
   "outputs": [],
   "source": [
    "import os\n",
    "\n",
    "os.environ['STANFORD_PARSER'] = 'stanford-parser'\n",
    "os.environ['STANFORD_MODELS'] = 'stanford-parser'\n",
    "\n",
    "\n",
    "from nltk.parse.stanford import StanfordParser\n",
    "from nltk.tree import ParentedTree, Tree"
   ]
  },
  {
   "cell_type": "code",
   "execution_count": 2,
   "metadata": {},
   "outputs": [
    {
     "name": "stderr",
     "output_type": "stream",
     "text": [
      "C:\\Users\\akhil\\Anaconda3\\lib\\site-packages\\ipykernel_launcher.py:1: DeprecationWarning: The StanfordParser will be deprecated\n",
      "Please use \u001b[91mnltk.parse.corenlp.StanforCoreNLPParser\u001b[0m instead.\n",
      "  \"\"\"Entry point for launching an IPython kernel.\n"
     ]
    }
   ],
   "source": [
    "parser = StanfordParser()"
   ]
  },
  {
   "cell_type": "code",
   "execution_count": 47,
   "metadata": {},
   "outputs": [
    {
     "name": "stdout",
     "output_type": "stream",
     "text": [
      "                 ROOT                                                             \n",
      "                  |                                                                \n",
      "                  S                                                               \n",
      "      ____________|_________________                                               \n",
      "     |                              VP                                            \n",
      "     |                    __________|_____________                                 \n",
      "     |                   |                        VP                              \n",
      "     |                   |     ___________________|_____________                   \n",
      "     |                   |    |           |                     PP                \n",
      "     |                   |    |           |              _______|_____             \n",
      "     NP                  |    |           NP            |             NP          \n",
      "  ___|____________       |    |      _____|_______      |    _________|_______     \n",
      " DT  JJ    JJ     NN    VBZ  VBN    DT    JJ      NN    TO  DT        JJ      NN  \n",
      " |   |     |      |      |    |     |     |       |     |   |         |       |    \n",
      " A  rare black squirrel has become  a  regular visitor  to  a      suburban garden\n",
      "\n"
     ]
    }
   ],
   "source": [
    "sent = 'A rare black squirrel has become a regular visitor to a suburban garden'\n",
    "t = list(parser.raw_parse(sent))[0]\n",
    "t = ParentedTree.convert(t)\n",
    " \n",
    "t.pretty_print()"
   ]
  },
  {
   "cell_type": "code",
   "execution_count": 48,
   "metadata": {},
   "outputs": [],
   "source": [
    "def find_subject(t):    \n",
    "    for s in t.subtrees(lambda t: t.label() == 'NP'):\n",
    "        for n in s.subtrees(lambda n: n.label().startswith('NN')):\n",
    "            return (n[0], find_attrs(n))\n",
    "            \n",
    "def find_predicate(t):    \n",
    "    v = None\n",
    "    \n",
    "    for s in t.subtrees(lambda t: t.label() == 'VP'):\n",
    "        for n in s.subtrees(lambda n: n.label().startswith('VB')):\n",
    "            v = n\n",
    "        return (v[0], find_attrs(v))\n",
    "    \n",
    "def find_object(t):    \n",
    "    for s in t.subtrees(lambda t: t.label() == 'VP'):\n",
    "        for n in s.subtrees(lambda n: n.label() in ['NP', 'PP', 'ADJP']):\n",
    "            if n.label() in ['NP', 'PP']:\n",
    "                for c in n.subtrees(lambda c: c.label().startswith('NN')):\n",
    "                    return (c[0], find_attrs(c))\n",
    "            else:\n",
    "                for c in n.subtrees(lambda c: c.label().startswith('JJ')):\n",
    "                    return (c[0], find_attrs(c))\n",
    "                \n",
    "def find_attrs(node):\n",
    "    attrs = []\n",
    "    p = node.parent()\n",
    "    \n",
    "    # Search siblings\n",
    "    if node.label().startswith('JJ'):\n",
    "        for s in p:\n",
    "            if s.label() == 'RB':\n",
    "                attrs.append(s[0])\n",
    "                \n",
    "    elif node.label().startswith('NN'):\n",
    "        for s in p:\n",
    "            if s.label() in ['DT','PRP$','POS','JJ','CD','ADJP','QP','NP']:\n",
    "                attrs.append(' '.join(s.flatten()))\n",
    "    \n",
    "    elif node.label().startswith('VB'):\n",
    "        for s in p:\n",
    "            if s.label() == 'ADVP':\n",
    "                attrs.append(' '.join(s.flatten()))\n",
    "                \n",
    "    # Search uncles\n",
    "    if node.label().startswith('JJ') or node.label().startswith('NN'):\n",
    "        for s in p.parent():\n",
    "            if s != p and s.label() == 'PP':\n",
    "                attrs.append(' '.join(s.flatten()))\n",
    "                \n",
    "    elif node.label().startswith('VB'):\n",
    "        for s in p.parent():\n",
    "            if s != p and s.label().startswith('VB'):\n",
    "                attrs.append(s[0])\n",
    "                \n",
    "    return attrs"
   ]
  },
  {
   "cell_type": "code",
   "execution_count": 49,
   "metadata": {},
   "outputs": [
    {
     "name": "stdout",
     "output_type": "stream",
     "text": [
      "('squirrel', ['A', 'rare', 'black'])\n",
      "('become', ['has'])\n",
      "('visitor', ['a', 'regular', 'to a suburban garden'])\n"
     ]
    }
   ],
   "source": [
    "print(find_subject(t))\n",
    "print(find_predicate(t))\n",
    "print(find_object(t))"
   ]
  },
  {
   "cell_type": "code",
   "execution_count": 37,
   "metadata": {},
   "outputs": [
    {
     "name": "stdout",
     "output_type": "stream",
     "text": [
      "('hotel', ['The'])\n",
      "('located', ['is'])\n",
      "('USA', [])\n"
     ]
    }
   ],
   "source": [
    "sent = 'The hotel is located in USA'\n",
    "t = list(parser.raw_parse(sent))[0]\n",
    "t = ParentedTree.convert(t)\n",
    "\n",
    "print(find_subject(t))\n",
    "print(find_predicate(t))\n",
    "print(find_object(t))"
   ]
  },
  {
   "cell_type": "code",
   "execution_count": null,
   "metadata": {},
   "outputs": [],
   "source": []
  }
 ],
 "metadata": {
  "kernelspec": {
   "display_name": "Python 3",
   "language": "python",
   "name": "python3"
  },
  "language_info": {
   "codemirror_mode": {
    "name": "ipython",
    "version": 3
   },
   "file_extension": ".py",
   "mimetype": "text/x-python",
   "name": "python",
   "nbconvert_exporter": "python",
   "pygments_lexer": "ipython3",
   "version": "3.6.5"
  }
 },
 "nbformat": 4,
 "nbformat_minor": 2
}
