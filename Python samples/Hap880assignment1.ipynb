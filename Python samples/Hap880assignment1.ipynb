{
 "cells": [
  {
   "cell_type": "code",
   "execution_count": 2,
   "metadata": {},
   "outputs": [],
   "source": [
    "import pandas as pd"
   ]
  },
  {
   "cell_type": "code",
   "execution_count": 3,
   "metadata": {},
   "outputs": [],
   "source": [
    "df= pd.read_csv(\"C://Users//akhil//Desktop//HAP 880//Week 1//highUtilizationPredictionV2wco.csv\")"
   ]
  },
  {
   "cell_type": "code",
   "execution_count": 4,
   "metadata": {},
   "outputs": [
    {
     "data": {
      "text/html": [
       "<div>\n",
       "<style scoped>\n",
       "    .dataframe tbody tr th:only-of-type {\n",
       "        vertical-align: middle;\n",
       "    }\n",
       "\n",
       "    .dataframe tbody tr th {\n",
       "        vertical-align: top;\n",
       "    }\n",
       "\n",
       "    .dataframe thead th {\n",
       "        text-align: right;\n",
       "    }\n",
       "</style>\n",
       "<table border=\"1\" class=\"dataframe\">\n",
       "  <thead>\n",
       "    <tr style=\"text-align: right;\">\n",
       "      <th></th>\n",
       "      <th>race</th>\n",
       "      <th>age</th>\n",
       "      <th>patient_id</th>\n",
       "      <th>ELIX1</th>\n",
       "      <th>ELIX2</th>\n",
       "      <th>ELIX3</th>\n",
       "      <th>ELIX4</th>\n",
       "      <th>ELIX5</th>\n",
       "      <th>ELIX6</th>\n",
       "      <th>ELIX7</th>\n",
       "      <th>...</th>\n",
       "      <th>drugs_m4-5</th>\n",
       "      <th>drugs_m5-6</th>\n",
       "      <th>drugs_m6-7</th>\n",
       "      <th>drugs_m7-8</th>\n",
       "      <th>drugs_m8-9</th>\n",
       "      <th>drugs_m9-10</th>\n",
       "      <th>drugs_m10-11</th>\n",
       "      <th>drugs_m11-12</th>\n",
       "      <th>HighUtilizationY2</th>\n",
       "      <th>claimCount</th>\n",
       "    </tr>\n",
       "  </thead>\n",
       "  <tbody>\n",
       "    <tr>\n",
       "      <th>0</th>\n",
       "      <td>B</td>\n",
       "      <td>71</td>\n",
       "      <td>PAT136597</td>\n",
       "      <td>0</td>\n",
       "      <td>0</td>\n",
       "      <td>0</td>\n",
       "      <td>0</td>\n",
       "      <td>0</td>\n",
       "      <td>1</td>\n",
       "      <td>0</td>\n",
       "      <td>...</td>\n",
       "      <td>0</td>\n",
       "      <td>1</td>\n",
       "      <td>4</td>\n",
       "      <td>2</td>\n",
       "      <td>1</td>\n",
       "      <td>3</td>\n",
       "      <td>1</td>\n",
       "      <td>1</td>\n",
       "      <td>1</td>\n",
       "      <td>160</td>\n",
       "    </tr>\n",
       "    <tr>\n",
       "      <th>1</th>\n",
       "      <td>A</td>\n",
       "      <td>86</td>\n",
       "      <td>PAT119838</td>\n",
       "      <td>0</td>\n",
       "      <td>0</td>\n",
       "      <td>0</td>\n",
       "      <td>0</td>\n",
       "      <td>0</td>\n",
       "      <td>0</td>\n",
       "      <td>0</td>\n",
       "      <td>...</td>\n",
       "      <td>0</td>\n",
       "      <td>0</td>\n",
       "      <td>0</td>\n",
       "      <td>0</td>\n",
       "      <td>0</td>\n",
       "      <td>0</td>\n",
       "      <td>0</td>\n",
       "      <td>0</td>\n",
       "      <td>0</td>\n",
       "      <td>24</td>\n",
       "    </tr>\n",
       "    <tr>\n",
       "      <th>2</th>\n",
       "      <td>W</td>\n",
       "      <td>70</td>\n",
       "      <td>PAT11289</td>\n",
       "      <td>1</td>\n",
       "      <td>0</td>\n",
       "      <td>0</td>\n",
       "      <td>0</td>\n",
       "      <td>0</td>\n",
       "      <td>0</td>\n",
       "      <td>0</td>\n",
       "      <td>...</td>\n",
       "      <td>4</td>\n",
       "      <td>2</td>\n",
       "      <td>2</td>\n",
       "      <td>0</td>\n",
       "      <td>6</td>\n",
       "      <td>2</td>\n",
       "      <td>1</td>\n",
       "      <td>0</td>\n",
       "      <td>0</td>\n",
       "      <td>52</td>\n",
       "    </tr>\n",
       "    <tr>\n",
       "      <th>3</th>\n",
       "      <td>W</td>\n",
       "      <td>75</td>\n",
       "      <td>PAT178745</td>\n",
       "      <td>0</td>\n",
       "      <td>0</td>\n",
       "      <td>0</td>\n",
       "      <td>0</td>\n",
       "      <td>1</td>\n",
       "      <td>0</td>\n",
       "      <td>0</td>\n",
       "      <td>...</td>\n",
       "      <td>0</td>\n",
       "      <td>0</td>\n",
       "      <td>0</td>\n",
       "      <td>0</td>\n",
       "      <td>0</td>\n",
       "      <td>0</td>\n",
       "      <td>0</td>\n",
       "      <td>0</td>\n",
       "      <td>0</td>\n",
       "      <td>15</td>\n",
       "    </tr>\n",
       "    <tr>\n",
       "      <th>4</th>\n",
       "      <td>W</td>\n",
       "      <td>77</td>\n",
       "      <td>PAT50922</td>\n",
       "      <td>0</td>\n",
       "      <td>0</td>\n",
       "      <td>0</td>\n",
       "      <td>0</td>\n",
       "      <td>1</td>\n",
       "      <td>0</td>\n",
       "      <td>0</td>\n",
       "      <td>...</td>\n",
       "      <td>4</td>\n",
       "      <td>3</td>\n",
       "      <td>4</td>\n",
       "      <td>4</td>\n",
       "      <td>4</td>\n",
       "      <td>3</td>\n",
       "      <td>4</td>\n",
       "      <td>4</td>\n",
       "      <td>0</td>\n",
       "      <td>66</td>\n",
       "    </tr>\n",
       "  </tbody>\n",
       "</table>\n",
       "<p>5 rows × 68 columns</p>\n",
       "</div>"
      ],
      "text/plain": [
       "  race  age patient_id  ELIX1  ELIX2  ELIX3  ELIX4  ELIX5  ELIX6  ELIX7  \\\n",
       "0    B   71  PAT136597      0      0      0      0      0      1      0   \n",
       "1    A   86  PAT119838      0      0      0      0      0      0      0   \n",
       "2    W   70   PAT11289      1      0      0      0      0      0      0   \n",
       "3    W   75  PAT178745      0      0      0      0      1      0      0   \n",
       "4    W   77   PAT50922      0      0      0      0      1      0      0   \n",
       "\n",
       "      ...      drugs_m4-5  drugs_m5-6  drugs_m6-7  drugs_m7-8  drugs_m8-9  \\\n",
       "0     ...               0           1           4           2           1   \n",
       "1     ...               0           0           0           0           0   \n",
       "2     ...               4           2           2           0           6   \n",
       "3     ...               0           0           0           0           0   \n",
       "4     ...               4           3           4           4           4   \n",
       "\n",
       "   drugs_m9-10  drugs_m10-11  drugs_m11-12  HighUtilizationY2  claimCount  \n",
       "0            3             1             1                  1         160  \n",
       "1            0             0             0                  0          24  \n",
       "2            2             1             0                  0          52  \n",
       "3            0             0             0                  0          15  \n",
       "4            3             4             4                  0          66  \n",
       "\n",
       "[5 rows x 68 columns]"
      ]
     },
     "execution_count": 4,
     "metadata": {},
     "output_type": "execute_result"
    }
   ],
   "source": [
    "df.head()"
   ]
  },
  {
   "cell_type": "code",
   "execution_count": 5,
   "metadata": {},
   "outputs": [],
   "source": [
    "cls = df.columns.tolist()"
   ]
  },
  {
   "cell_type": "code",
   "execution_count": 6,
   "metadata": {},
   "outputs": [],
   "source": [
    "cls.remove('race')\n",
    "cls.remove('patient_id')\n",
    "cls.remove('HighUtilizationY2')\n",
    "cls.remove('claimCount')"
   ]
  },
  {
   "cell_type": "code",
   "execution_count": 7,
   "metadata": {},
   "outputs": [],
   "source": [
    "df1 = df[cls]\n",
    "label = df.HighUtilizationY2"
   ]
  },
  {
   "cell_type": "code",
   "execution_count": 8,
   "metadata": {},
   "outputs": [],
   "source": [
    "from sklearn.model_selection import train_test_split\n",
    "from sklearn.linear_model import LogisticRegression"
   ]
  },
  {
   "cell_type": "code",
   "execution_count": 9,
   "metadata": {},
   "outputs": [],
   "source": [
    "df1=df1.fillna(0)\n",
    "label=label.fillna(0)"
   ]
  },
  {
   "cell_type": "code",
   "execution_count": 10,
   "metadata": {},
   "outputs": [],
   "source": [
    "xtr,xts,ytr,yts = train_test_split(df1,label)"
   ]
  },
  {
   "cell_type": "code",
   "execution_count": 11,
   "metadata": {},
   "outputs": [],
   "source": [
    "lr = LogisticRegression()"
   ]
  },
  {
   "cell_type": "code",
   "execution_count": 12,
   "metadata": {},
   "outputs": [
    {
     "data": {
      "text/plain": [
       "LogisticRegression(C=1.0, class_weight=None, dual=False, fit_intercept=True,\n",
       "          intercept_scaling=1, max_iter=100, multi_class='ovr', n_jobs=1,\n",
       "          penalty='l2', random_state=None, solver='liblinear', tol=0.0001,\n",
       "          verbose=0, warm_start=False)"
      ]
     },
     "execution_count": 12,
     "metadata": {},
     "output_type": "execute_result"
    }
   ],
   "source": [
    "lr.fit(xtr,ytr)"
   ]
  },
  {
   "cell_type": "code",
   "execution_count": 13,
   "metadata": {},
   "outputs": [
    {
     "data": {
      "text/plain": [
       "array([[-0.0153703 ,  0.16322814,  0.42389216,  0.30182937,  0.03833984,\n",
       "         0.11508896,  0.66952559,  0.01504228,  0.10751252,  0.26673591,\n",
       "         0.95115749, -0.152413  ,  0.12550178,  0.29019168,  0.55799626,\n",
       "        -0.02403442,  0.23027348,  0.20061143,  0.07051239, -0.10648872,\n",
       "        -0.14139897,  0.45589257,  0.57398819, -0.07579497,  0.01581758,\n",
       "         0.10461929, -0.072983  ,  0.23853897,  0.12377726,  0.16036326,\n",
       "         0.17655889, -0.11176681, -0.00377018, -0.18901871,  0.42721684,\n",
       "         0.16256298, -0.11526237, -0.1029253 , -0.00451619,  0.35345254,\n",
       "         0.33560836,  0.69744925,  0.20582573, -0.00468067,  0.29085755,\n",
       "         0.22583841,  0.16973761, -0.00105051,  0.21552307,  0.33045394,\n",
       "         0.4647531 , -0.00427495, -0.02620523, -0.01199708, -0.01087416,\n",
       "         0.00175864, -0.0045719 , -0.00563626, -0.00196669,  0.00727628,\n",
       "        -0.0073132 ,  0.03953143,  0.02550421,  0.08537019]])"
      ]
     },
     "execution_count": 13,
     "metadata": {},
     "output_type": "execute_result"
    }
   ],
   "source": [
    "lr.coef_"
   ]
  },
  {
   "cell_type": "code",
   "execution_count": 14,
   "metadata": {},
   "outputs": [],
   "source": [
    "probs=lr.predict_proba(xts)[:,1]"
   ]
  },
  {
   "cell_type": "code",
   "execution_count": 15,
   "metadata": {},
   "outputs": [],
   "source": [
    "output = lr.predict(xts)"
   ]
  },
  {
   "cell_type": "code",
   "execution_count": 16,
   "metadata": {},
   "outputs": [],
   "source": [
    "from sklearn.metrics import auc\n",
    "from sklearn.metrics import roc_curve"
   ]
  },
  {
   "cell_type": "code",
   "execution_count": 17,
   "metadata": {},
   "outputs": [],
   "source": [
    "fpr, tpr, thresholds = roc_curve(yts, probs)"
   ]
  },
  {
   "cell_type": "code",
   "execution_count": 18,
   "metadata": {},
   "outputs": [
    {
     "data": {
      "text/plain": [
       "0.8171558313425951"
      ]
     },
     "execution_count": 18,
     "metadata": {},
     "output_type": "execute_result"
    }
   ],
   "source": [
    "auc(fpr,tpr)"
   ]
  },
  {
   "cell_type": "code",
   "execution_count": 19,
   "metadata": {},
   "outputs": [],
   "source": [
    "get_ipython().magic('matplotlib inline')"
   ]
  },
  {
   "cell_type": "code",
   "execution_count": 20,
   "metadata": {},
   "outputs": [],
   "source": [
    "from matplotlib import pyplot as plt"
   ]
  },
  {
   "cell_type": "code",
   "execution_count": 21,
   "metadata": {},
   "outputs": [
    {
     "data": {
      "text/plain": [
       "[<matplotlib.lines.Line2D at 0x2b92be77a20>]"
      ]
     },
     "execution_count": 21,
     "metadata": {},
     "output_type": "execute_result"
    },
    {
     "data": {
      "image/png": "[encoded data removed]",
      "text/plain": [
       "<Figure size 432x288 with 1 Axes>"
      ]
     },
     "metadata": {},
     "output_type": "display_data"
    }
   ],
   "source": [
    "plt.plot(fpr,tpr)"
   ]
  },
  {
   "cell_type": "code",
   "execution_count": 22,
   "metadata": {},
   "outputs": [],
   "source": [
    "from sklearn.ensemble import RandomForestClassifier"
   ]
  },
  {
   "cell_type": "code",
   "execution_count": 23,
   "metadata": {},
   "outputs": [],
   "source": [
    "rf = RandomForestClassifier(n_estimators=100)"
   ]
  },
  {
   "cell_type": "code",
   "execution_count": 24,
   "metadata": {},
   "outputs": [
    {
     "data": {
      "text/plain": [
       "0.7987168038242047"
      ]
     },
     "execution_count": 24,
     "metadata": {},
     "output_type": "execute_result"
    }
   ],
   "source": [
    "rf.fit(xtr, ytr)\n",
    "rf_probs = rf.predict_proba(xts)\n",
    "rf_fpr, rf_tpr, rf_thresholds = roc_curve(yts, rf_probs[:,1])\n",
    "auc(rf_fpr, rf_tpr)"
   ]
  },
  {
   "cell_type": "markdown",
   "metadata": {},
   "source": [
    "#Comparing AUC for logistic regression and random forest "
   ]
  },
  {
   "cell_type": "code",
   "execution_count": 25,
   "metadata": {},
   "outputs": [
    {
     "data": {
      "text/plain": [
       "[<matplotlib.lines.Line2D at 0x2b93618e160>]"
      ]
     },
     "execution_count": 25,
     "metadata": {},
     "output_type": "execute_result"
    },
    {
     "data": {
      "image/png": "[encoded data removed]",
      "text/plain": [
       "<Figure size 432x288 with 1 Axes>"
      ]
     },
     "metadata": {},
     "output_type": "display_data"
    }
   ],
   "source": [
    "plt.plot(fpr,tpr)\n",
    "plt.plot(rf_fpr,rf_tpr)"
   ]
  },
  {
   "cell_type": "code",
   "execution_count": 26,
   "metadata": {},
   "outputs": [
    {
     "name": "stdout",
     "output_type": "stream",
     "text": [
      "[7.41010976e-08]\n",
      "[0]\n"
     ]
    }
   ],
   "source": [
    "r2 = pd.read_json(\"C://Users//akhil//Desktop//HAP 880//Week 1//Assignment 1\\\\r2.json\")\n",
    "r2t = r2.T[cls]\n",
    "print(lr.predict_proba(r2t)[:,1])\n",
    "print(lr.predict(r2t))"
   ]
  },
  {
   "cell_type": "code",
   "execution_count": 27,
   "metadata": {},
   "outputs": [
    {
     "name": "stdout",
     "output_type": "stream",
     "text": [
      "[0.09563294]\n",
      "[0]\n"
     ]
    }
   ],
   "source": [
    "r4 = pd.read_json(\"C://Users//akhil//Desktop//HAP 880//Week 1//Assignment 1\\\\r4.json\")\n",
    "r4t = r4.T[cls]\n",
    "print(lr.predict_proba(r4t)[:,1])\n",
    "print(lr.predict(r4t))"
   ]
  },
  {
   "cell_type": "markdown",
   "metadata": {},
   "source": [
    "#Since R3 doesnot have the variable ELIX5 : Again trining the model without ELXI5"
   ]
  },
  {
   "cell_type": "code",
   "execution_count": 28,
   "metadata": {},
   "outputs": [],
   "source": [
    "clsnew = df.columns.tolist()"
   ]
  },
  {
   "cell_type": "code",
   "execution_count": 29,
   "metadata": {},
   "outputs": [],
   "source": [
    "clsnew.remove('race')\n",
    "clsnew.remove('patient_id')\n",
    "clsnew.remove('HighUtilizationY2')\n",
    "clsnew.remove('claimCount')\n",
    "clsnew.remove('ELIX5')"
   ]
  },
  {
   "cell_type": "code",
   "execution_count": 30,
   "metadata": {},
   "outputs": [],
   "source": [
    "df2 = df[clsnew]\n",
    "label = df.HighUtilizationY2"
   ]
  },
  {
   "cell_type": "code",
   "execution_count": 31,
   "metadata": {},
   "outputs": [],
   "source": [
    "xtr2,xts2,ytr2,yts2 = train_test_split(df2,label)"
   ]
  },
  {
   "cell_type": "code",
   "execution_count": 32,
   "metadata": {},
   "outputs": [],
   "source": [
    "lr = LogisticRegression()"
   ]
  },
  {
   "cell_type": "code",
   "execution_count": 33,
   "metadata": {},
   "outputs": [
    {
     "data": {
      "text/plain": [
       "LogisticRegression(C=1.0, class_weight=None, dual=False, fit_intercept=True,\n",
       "          intercept_scaling=1, max_iter=100, multi_class='ovr', n_jobs=1,\n",
       "          penalty='l2', random_state=None, solver='liblinear', tol=0.0001,\n",
       "          verbose=0, warm_start=False)"
      ]
     },
     "execution_count": 33,
     "metadata": {},
     "output_type": "execute_result"
    }
   ],
   "source": [
    "lr.fit(xtr2,ytr2)"
   ]
  },
  {
   "cell_type": "code",
   "execution_count": 35,
   "metadata": {},
   "outputs": [],
   "source": [
    "probs=lr.predict_proba(xts2)[:,1]"
   ]
  },
  {
   "cell_type": "code",
   "execution_count": 36,
   "metadata": {},
   "outputs": [],
   "source": [
    "r3 = pd.read_json(\"C://Users//akhil//Desktop//HAP 880//Week 1//Assignment 1\\\\r3.json\")\n",
    "r3t = r3.T[clsnew]"
   ]
  },
  {
   "cell_type": "code",
   "execution_count": 37,
   "metadata": {},
   "outputs": [
    {
     "data": {
      "text/html": [
       "<div>\n",
       "<style scoped>\n",
       "    .dataframe tbody tr th:only-of-type {\n",
       "        vertical-align: middle;\n",
       "    }\n",
       "\n",
       "    .dataframe tbody tr th {\n",
       "        vertical-align: top;\n",
       "    }\n",
       "\n",
       "    .dataframe thead th {\n",
       "        text-align: right;\n",
       "    }\n",
       "</style>\n",
       "<table border=\"1\" class=\"dataframe\">\n",
       "  <thead>\n",
       "    <tr style=\"text-align: right;\">\n",
       "      <th></th>\n",
       "      <th>age</th>\n",
       "      <th>ELIX1</th>\n",
       "      <th>ELIX2</th>\n",
       "      <th>ELIX3</th>\n",
       "      <th>ELIX4</th>\n",
       "      <th>ELIX6</th>\n",
       "      <th>ELIX7</th>\n",
       "      <th>ELIX8</th>\n",
       "      <th>ELIX9</th>\n",
       "      <th>ELIX10</th>\n",
       "      <th>...</th>\n",
       "      <th>drugs_m2-3</th>\n",
       "      <th>drugs_m3-4</th>\n",
       "      <th>drugs_m4-5</th>\n",
       "      <th>drugs_m5-6</th>\n",
       "      <th>drugs_m6-7</th>\n",
       "      <th>drugs_m7-8</th>\n",
       "      <th>drugs_m8-9</th>\n",
       "      <th>drugs_m9-10</th>\n",
       "      <th>drugs_m10-11</th>\n",
       "      <th>drugs_m11-12</th>\n",
       "    </tr>\n",
       "  </thead>\n",
       "  <tbody>\n",
       "    <tr>\n",
       "      <th>0</th>\n",
       "      <td>69</td>\n",
       "      <td>0</td>\n",
       "      <td>0</td>\n",
       "      <td>Yes</td>\n",
       "      <td>0</td>\n",
       "      <td>0</td>\n",
       "      <td>0</td>\n",
       "      <td>0</td>\n",
       "      <td>1</td>\n",
       "      <td>0</td>\n",
       "      <td>...</td>\n",
       "      <td>1</td>\n",
       "      <td>2</td>\n",
       "      <td>1</td>\n",
       "      <td>1</td>\n",
       "      <td>0</td>\n",
       "      <td>3</td>\n",
       "      <td>1</td>\n",
       "      <td>1</td>\n",
       "      <td>1</td>\n",
       "      <td>3</td>\n",
       "    </tr>\n",
       "  </tbody>\n",
       "</table>\n",
       "<p>1 rows × 63 columns</p>\n",
       "</div>"
      ],
      "text/plain": [
       "  age ELIX1 ELIX2 ELIX3 ELIX4 ELIX6 ELIX7 ELIX8 ELIX9 ELIX10     ...       \\\n",
       "0  69     0     0   Yes     0     0     0     0     1      0     ...        \n",
       "\n",
       "  drugs_m2-3 drugs_m3-4 drugs_m4-5 drugs_m5-6 drugs_m6-7 drugs_m7-8  \\\n",
       "0          1          2          1          1          0          3   \n",
       "\n",
       "  drugs_m8-9 drugs_m9-10 drugs_m10-11 drugs_m11-12  \n",
       "0          1           1            1            3  \n",
       "\n",
       "[1 rows x 63 columns]"
      ]
     },
     "execution_count": 37,
     "metadata": {},
     "output_type": "execute_result"
    }
   ],
   "source": [
    "r3t"
   ]
  },
  {
   "cell_type": "code",
   "execution_count": 38,
   "metadata": {},
   "outputs": [
    {
     "name": "stderr",
     "output_type": "stream",
     "text": [
      "C:\\Users\\akhil\\Anaconda3\\lib\\site-packages\\ipykernel_launcher.py:1: FutureWarning: set_value is deprecated and will be removed in a future release. Please use .at[] or .iat[] accessors instead\n",
      "  \"\"\"Entry point for launching an IPython kernel.\n"
     ]
    }
   ],
   "source": [
    "r3t = r3t.set_value(0,'ELIX3', 1)"
   ]
  },
  {
   "cell_type": "code",
   "execution_count": 39,
   "metadata": {},
   "outputs": [
    {
     "data": {
      "text/html": [
       "<div>\n",
       "<style scoped>\n",
       "    .dataframe tbody tr th:only-of-type {\n",
       "        vertical-align: middle;\n",
       "    }\n",
       "\n",
       "    .dataframe tbody tr th {\n",
       "        vertical-align: top;\n",
       "    }\n",
       "\n",
       "    .dataframe thead th {\n",
       "        text-align: right;\n",
       "    }\n",
       "</style>\n",
       "<table border=\"1\" class=\"dataframe\">\n",
       "  <thead>\n",
       "    <tr style=\"text-align: right;\">\n",
       "      <th></th>\n",
       "      <th>age</th>\n",
       "      <th>ELIX1</th>\n",
       "      <th>ELIX2</th>\n",
       "      <th>ELIX3</th>\n",
       "      <th>ELIX4</th>\n",
       "      <th>ELIX6</th>\n",
       "      <th>ELIX7</th>\n",
       "      <th>ELIX8</th>\n",
       "      <th>ELIX9</th>\n",
       "      <th>ELIX10</th>\n",
       "      <th>...</th>\n",
       "      <th>drugs_m2-3</th>\n",
       "      <th>drugs_m3-4</th>\n",
       "      <th>drugs_m4-5</th>\n",
       "      <th>drugs_m5-6</th>\n",
       "      <th>drugs_m6-7</th>\n",
       "      <th>drugs_m7-8</th>\n",
       "      <th>drugs_m8-9</th>\n",
       "      <th>drugs_m9-10</th>\n",
       "      <th>drugs_m10-11</th>\n",
       "      <th>drugs_m11-12</th>\n",
       "    </tr>\n",
       "  </thead>\n",
       "  <tbody>\n",
       "    <tr>\n",
       "      <th>0</th>\n",
       "      <td>69</td>\n",
       "      <td>0</td>\n",
       "      <td>0</td>\n",
       "      <td>1</td>\n",
       "      <td>0</td>\n",
       "      <td>0</td>\n",
       "      <td>0</td>\n",
       "      <td>0</td>\n",
       "      <td>1</td>\n",
       "      <td>0</td>\n",
       "      <td>...</td>\n",
       "      <td>1</td>\n",
       "      <td>2</td>\n",
       "      <td>1</td>\n",
       "      <td>1</td>\n",
       "      <td>0</td>\n",
       "      <td>3</td>\n",
       "      <td>1</td>\n",
       "      <td>1</td>\n",
       "      <td>1</td>\n",
       "      <td>3</td>\n",
       "    </tr>\n",
       "  </tbody>\n",
       "</table>\n",
       "<p>1 rows × 63 columns</p>\n",
       "</div>"
      ],
      "text/plain": [
       "  age ELIX1 ELIX2 ELIX3 ELIX4 ELIX6 ELIX7 ELIX8 ELIX9 ELIX10     ...       \\\n",
       "0  69     0     0     1     0     0     0     0     1      0     ...        \n",
       "\n",
       "  drugs_m2-3 drugs_m3-4 drugs_m4-5 drugs_m5-6 drugs_m6-7 drugs_m7-8  \\\n",
       "0          1          2          1          1          0          3   \n",
       "\n",
       "  drugs_m8-9 drugs_m9-10 drugs_m10-11 drugs_m11-12  \n",
       "0          1           1            1            3  \n",
       "\n",
       "[1 rows x 63 columns]"
      ]
     },
     "execution_count": 39,
     "metadata": {},
     "output_type": "execute_result"
    }
   ],
   "source": [
    "r3t"
   ]
  },
  {
   "cell_type": "code",
   "execution_count": 40,
   "metadata": {},
   "outputs": [
    {
     "name": "stdout",
     "output_type": "stream",
     "text": [
      "[[0.98515777 0.01484223]]\n"
     ]
    }
   ],
   "source": [
    "print(lr.predict_proba(r3t))"
   ]
  },
  {
   "cell_type": "code",
   "execution_count": 41,
   "metadata": {},
   "outputs": [
    {
     "name": "stdout",
     "output_type": "stream",
     "text": [
      "[0]\n"
     ]
    }
   ],
   "source": [
    "print(lr.predict(r3t))"
   ]
  },
  {
   "cell_type": "code",
   "execution_count": 42,
   "metadata": {},
   "outputs": [],
   "source": [
    "rf = RandomForestClassifier(n_estimators=100)"
   ]
  },
  {
   "cell_type": "code",
   "execution_count": 47,
   "metadata": {},
   "outputs": [],
   "source": [
    "rf.fit(xtr2,ytr2)\n",
    "rf_probs = rf.predict_proba(r3t)"
   ]
  },
  {
   "cell_type": "code",
   "execution_count": 51,
   "metadata": {},
   "outputs": [
    {
     "name": "stdout",
     "output_type": "stream",
     "text": [
      "[[1. 0.]]\n"
     ]
    }
   ],
   "source": [
    "print(rf_probs)"
   ]
  },
  {
   "cell_type": "code",
   "execution_count": 49,
   "metadata": {},
   "outputs": [
    {
     "name": "stdout",
     "output_type": "stream",
     "text": [
      "[0]\n"
     ]
    }
   ],
   "source": [
    "print(rf.predict(r3t))"
   ]
  },
  {
   "cell_type": "markdown",
   "metadata": {},
   "source": [
    "#We can conclude that the three patients are not highutilizers "
   ]
  }
 ],
 "metadata": {
  "kernelspec": {
   "display_name": "Python 3",
   "language": "python",
   "name": "python3"
  },
  "language_info": {
   "codemirror_mode": {
    "name": "ipython",
    "version": 3
   },
   "file_extension": ".py",
   "mimetype": "text/x-python",
   "name": "python",
   "nbconvert_exporter": "python",
   "pygments_lexer": "ipython3",
   "version": "3.6.5"
  }
 },
 "nbformat": 4,
 "nbformat_minor": 2
}
