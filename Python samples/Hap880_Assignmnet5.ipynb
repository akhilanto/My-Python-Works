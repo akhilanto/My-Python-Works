{
 "cells": [
  {
   "cell_type": "code",
   "execution_count": 1,
   "metadata": {},
   "outputs": [],
   "source": [
    "import sqlite3\n",
    "import pandas as pd\n",
    "import numpy as np\n",
    "from matplotlib import pyplot as plt"
   ]
  },
  {
   "cell_type": "code",
   "execution_count": 2,
   "metadata": {},
   "outputs": [],
   "source": [
    "conn = sqlite3.connect('C://Users//akhil//Desktop//HAP 880//Week 2//testclaims_hu.db')\n",
    "df = pd.read_sql('select * from highUtilizationPredictionV2wco', conn)"
   ]
  },
  {
   "cell_type": "code",
   "execution_count": 3,
   "metadata": {},
   "outputs": [],
   "source": [
    "race = pd.get_dummies(df['race'], dummy_na=False)\n",
    "df=pd.concat([df,race], axis=1)"
   ]
  },
  {
   "cell_type": "code",
   "execution_count": 4,
   "metadata": {},
   "outputs": [],
   "source": [
    "from sklearn.model_selection import train_test_split\n",
    "tr, ts = train_test_split(df, test_size=0.2)"
   ]
  },
  {
   "cell_type": "code",
   "execution_count": 5,
   "metadata": {},
   "outputs": [],
   "source": [
    "cls = list(df.columns)\n",
    "cls.remove('index')\n",
    "cls.remove('race')\n",
    "cls.remove('patient_id')\n",
    "cls.remove('claimCount')\n",
    "cls.remove('HighUtilizationY2')"
   ]
  },
  {
   "cell_type": "code",
   "execution_count": 6,
   "metadata": {},
   "outputs": [],
   "source": [
    "from sklearn.linear_model import LogisticRegression\n",
    "from sklearn.ensemble import RandomForestClassifier\n",
    "from sklearn.metrics import auc\n",
    "from sklearn.metrics import roc_curve"
   ]
  },
  {
   "cell_type": "code",
   "execution_count": 7,
   "metadata": {},
   "outputs": [
    {
     "data": {
      "text/plain": [
       "LogisticRegression(C=0.9, class_weight=None, dual=False, fit_intercept=True,\n",
       "          intercept_scaling=1, max_iter=1000, multi_class='ovr', n_jobs=1,\n",
       "          penalty='l2', random_state=None, solver='lbfgs', tol=0.0001,\n",
       "          verbose=0, warm_start=False)"
      ]
     },
     "execution_count": 7,
     "metadata": {},
     "output_type": "execute_result"
    }
   ],
   "source": [
    "lr = LogisticRegression(solver='lbfgs', C=0.9, max_iter=1000)\n",
    "lr.fit(tr[cls], tr['HighUtilizationY2'])"
   ]
  },
  {
   "cell_type": "code",
   "execution_count": 8,
   "metadata": {},
   "outputs": [
    {
     "data": {
      "text/plain": [
       "0.8222127480288721"
      ]
     },
     "execution_count": 8,
     "metadata": {},
     "output_type": "execute_result"
    }
   ],
   "source": [
    "probs_lr = lr.predict_proba(tr[cls])[:,1]\n",
    "fpr_lr, tpr_lr, thresholds_lr = roc_curve(tr['HighUtilizationY2'], probs_lr)\n",
    "auc_lr=auc(fpr_lr, tpr_lr)\n",
    "auc_lr"
   ]
  },
  {
   "cell_type": "code",
   "execution_count": 9,
   "metadata": {},
   "outputs": [
    {
     "data": {
      "text/plain": [
       "<matplotlib.collections.PathCollection at 0x28210a20208>"
      ]
     },
     "execution_count": 9,
     "metadata": {},
     "output_type": "execute_result"
    },
    {
     "data": {
      "image/png": "[encoded data removed]",
      "text/plain": [
       "<Figure size 432x288 with 1 Axes>"
      ]
     },
     "metadata": {},
     "output_type": "display_data"
    }
   ],
   "source": [
    "plt.scatter(fpr_lr, tpr_lr)"
   ]
  },
  {
   "cell_type": "code",
   "execution_count": 11,
   "metadata": {},
   "outputs": [
    {
     "data": {
      "text/plain": [
       "RandomForestClassifier(bootstrap=True, class_weight=None, criterion='gini',\n",
       "            max_depth=None, max_features='auto', max_leaf_nodes=None,\n",
       "            min_impurity_decrease=0.0, min_impurity_split=None,\n",
       "            min_samples_leaf=1, min_samples_split=2,\n",
       "            min_weight_fraction_leaf=0.0, n_estimators=400, n_jobs=1,\n",
       "            oob_score=False, random_state=None, verbose=0,\n",
       "            warm_start=False)"
      ]
     },
     "execution_count": 11,
     "metadata": {},
     "output_type": "execute_result"
    }
   ],
   "source": [
    "rf = RandomForestClassifier(n_estimators=400)\n",
    "rf.fit(tr[cls], tr['HighUtilizationY2'])"
   ]
  },
  {
   "cell_type": "code",
   "execution_count": 12,
   "metadata": {},
   "outputs": [
    {
     "data": {
      "text/plain": [
       "0.8077839781778678"
      ]
     },
     "execution_count": 12,
     "metadata": {},
     "output_type": "execute_result"
    }
   ],
   "source": [
    "probs_rf = rf.predict_proba(ts[cls])[:,1]\n",
    "fpr_rf, tpr_rf, thresholds_rf = roc_curve(ts['HighUtilizationY2'], probs_rf)\n",
    "auc_rf = auc(fpr_rf, tpr_rf)\n",
    "auc_rf"
   ]
  },
  {
   "cell_type": "code",
   "execution_count": 13,
   "metadata": {},
   "outputs": [
    {
     "data": {
      "text/plain": [
       "<matplotlib.collections.PathCollection at 0x28215742550>"
      ]
     },
     "execution_count": 13,
     "metadata": {},
     "output_type": "execute_result"
    },
    {
     "data": {
      "image/png": "[encoded data removed]",
      "text/plain": [
       "<Figure size 432x288 with 1 Axes>"
      ]
     },
     "metadata": {},
     "output_type": "display_data"
    }
   ],
   "source": [
    "plt.scatter(fpr_rf, tpr_rf)"
   ]
  },
  {
   "cell_type": "code",
   "execution_count": 14,
   "metadata": {},
   "outputs": [
    {
     "data": {
      "text/plain": [
       "<matplotlib.collections.PathCollection at 0x282157a4358>"
      ]
     },
     "execution_count": 14,
     "metadata": {},
     "output_type": "execute_result"
    },
    {
     "data": {
      "image/png": "[encoded data removed]",
      "text/plain": [
       "<Figure size 432x288 with 1 Axes>"
      ]
     },
     "metadata": {},
     "output_type": "display_data"
    }
   ],
   "source": [
    "plt.scatter(fpr_lr, tpr_lr)\n",
    "plt.scatter(fpr_rf, tpr_rf)"
   ]
  },
  {
   "cell_type": "markdown",
   "metadata": {},
   "source": [
    "# get classification thresholds for recall 0.8"
   ]
  },
  {
   "cell_type": "code",
   "execution_count": 15,
   "metadata": {},
   "outputs": [],
   "source": [
    "r = 0\n",
    "while tpr_rf[r] < 0.8:\n",
    "    r = r+1"
   ]
  },
  {
   "cell_type": "code",
   "execution_count": 16,
   "metadata": {},
   "outputs": [
    {
     "data": {
      "text/plain": [
       "473"
      ]
     },
     "execution_count": 16,
     "metadata": {},
     "output_type": "execute_result"
    }
   ],
   "source": [
    " r"
   ]
  },
  {
   "cell_type": "code",
   "execution_count": 17,
   "metadata": {},
   "outputs": [
    {
     "data": {
      "text/plain": [
       "(0.8073270013568521, 0.3582414462164592, 0.05)"
      ]
     },
     "execution_count": 17,
     "metadata": {},
     "output_type": "execute_result"
    }
   ],
   "source": [
    "tpr_rf[r], fpr_rf[r], thresholds_rf[r]"
   ]
  },
  {
   "cell_type": "code",
   "execution_count": 18,
   "metadata": {},
   "outputs": [],
   "source": [
    "l = 0\n",
    "while tpr_lr[l] < 0.8:\n",
    "    l = l+1"
   ]
  },
  {
   "cell_type": "code",
   "execution_count": 19,
   "metadata": {},
   "outputs": [
    {
     "data": {
      "text/plain": [
       "(0.8, 0.3130877557771372, 0.04776322442197152)"
      ]
     },
     "execution_count": 19,
     "metadata": {},
     "output_type": "execute_result"
    }
   ],
   "source": [
    "tpr_lr[l], fpr_lr[l], thresholds_lr[l]"
   ]
  },
  {
   "cell_type": "code",
   "execution_count": 20,
   "metadata": {},
   "outputs": [
    {
     "data": {
      "text/plain": [
       "0.06520681265206812"
      ]
     },
     "execution_count": 20,
     "metadata": {},
     "output_type": "execute_result"
    }
   ],
   "source": [
    "ts['HighUtilizationY2'].mean()"
   ]
  },
  {
   "cell_type": "code",
   "execution_count": 21,
   "metadata": {},
   "outputs": [
    {
     "data": {
      "text/plain": [
       "array([ True, False,  True, ..., False, False, False])"
      ]
     },
     "execution_count": 21,
     "metadata": {},
     "output_type": "execute_result"
    }
   ],
   "source": [
    "probs_rf > 0.05"
   ]
  },
  {
   "cell_type": "markdown",
   "metadata": {},
   "source": [
    "# generate one synthetic patient with all 0s and age 65"
   ]
  },
  {
   "cell_type": "code",
   "execution_count": 22,
   "metadata": {},
   "outputs": [],
   "source": [
    "age = 65\n",
    "ELIX = [0 for i in range(29)]\n",
    "G = [0 for i in range(22)]\n",
    "drugs = [0 for i in range(12)]\n",
    "A = 0\n",
    "AmN = 0\n",
    "B = 0\n",
    "H = 0\n",
    "O = 0\n",
    "U = 0\n",
    "W = 0\n",
    "d = [age] + ELIX + G + drugs + [A, AmN, B, H, O, U, W]"
   ]
  },
  {
   "cell_type": "code",
   "execution_count": 23,
   "metadata": {},
   "outputs": [],
   "source": [
    "dat = [d]"
   ]
  },
  {
   "cell_type": "code",
   "execution_count": 28,
   "metadata": {},
   "outputs": [
    {
     "data": {
      "text/plain": [
       "array([[0.99381712, 0.00618288]])"
      ]
     },
     "execution_count": 28,
     "metadata": {},
     "output_type": "execute_result"
    }
   ],
   "source": [
    "lr.predict_proba(dat)"
   ]
  },
  {
   "cell_type": "code",
   "execution_count": 29,
   "metadata": {},
   "outputs": [
    {
     "data": {
      "text/plain": [
       "array([[1., 0.]])"
      ]
     },
     "execution_count": 29,
     "metadata": {},
     "output_type": "execute_result"
    }
   ],
   "source": [
    "rf.predict_proba(dat)"
   ]
  },
  {
   "cell_type": "markdown",
   "metadata": {},
   "source": [
    "# now generate random data"
   ]
  },
  {
   "cell_type": "code",
   "execution_count": 35,
   "metadata": {},
   "outputs": [],
   "source": [
    "# fixed age\n",
    "age = 65\n",
    "\n",
    "# randomly select ELIX codes\n",
    "ELIX = [np.random.randint(2) for i in range(29)]\n",
    "\n",
    "# randomly select procedures\n",
    "G = [np.random.randint(2) for i in range(22)]\n",
    "\n",
    "# randomly select drug counts\n",
    "drugs = [np.random.randint(13) for i in range(12)] \n",
    "\n",
    "# zero all races\n",
    "A = 0\n",
    "AmN = 0\n",
    "B = 0\n",
    "H = 0\n",
    "O = 0\n",
    "U = 0\n",
    "W = 0\n",
    "# and randomly select race\n",
    "r = np.random.randint(7)\n",
    "if r == 0:\n",
    "    A = 1\n",
    "if r == 1:\n",
    "    AmN = 1\n",
    "if r == 2:\n",
    "    B = 1\n",
    "if r == 3:\n",
    "    H = 1\n",
    "if r == 4:\n",
    "    O = 1\n",
    "if r == 5:\n",
    "    U = 1\n",
    "if r == 6:\n",
    "    W = 1    \n",
    "d = [age] + ELIX + G + drugs + [A, AmN, B, H, O, U, W]\n",
    "dat = [d]"
   ]
  },
  {
   "cell_type": "code",
   "execution_count": 36,
   "metadata": {},
   "outputs": [
    {
     "data": {
      "text/plain": [
       "array([[0.38471925, 0.61528075]])"
      ]
     },
     "execution_count": 36,
     "metadata": {},
     "output_type": "execute_result"
    }
   ],
   "source": [
    "lr.predict_proba(dat)"
   ]
  },
  {
   "cell_type": "code",
   "execution_count": 37,
   "metadata": {},
   "outputs": [
    {
     "data": {
      "text/plain": [
       "0.3675"
      ]
     },
     "execution_count": 37,
     "metadata": {},
     "output_type": "execute_result"
    }
   ],
   "source": [
    "rf.predict_proba(dat)[:,1][0]"
   ]
  },
  {
   "cell_type": "markdown",
   "metadata": {},
   "source": [
    "# now simulate 1000 random patients"
   ]
  },
  {
   "cell_type": "code",
   "execution_count": 38,
   "metadata": {},
   "outputs": [],
   "source": [
    "lr_res = []\n",
    "rf_res = []\n",
    "for i in range(1000):\n",
    "    age = 65\n",
    "    ELIX = [np.random.randint(2) for i in range(29)]\n",
    "    G = [np.random.randint(2) for i in range(22)]\n",
    "    drugs = [np.random.randint(30) for i in range(12)] \n",
    "    A = 0\n",
    "    AmN = 0\n",
    "    B = 0\n",
    "    H = 0\n",
    "    O = 0\n",
    "    U = 0\n",
    "    W = 0\n",
    "    r = np.random.randint(7)\n",
    "    if r == 0:\n",
    "        A = 1\n",
    "    if r == 1:\n",
    "        AmN = 1\n",
    "    if r == 2:\n",
    "        B = 1\n",
    "    if r == 3:\n",
    "        H = 1\n",
    "    if r == 4:\n",
    "        O = 1\n",
    "    if r == 5:\n",
    "        U = 1\n",
    "    if r == 6:\n",
    "        W = 1    \n",
    "    d = [age] + ELIX + G + drugs + [A, AmN, B, H, O, U, W]\n",
    "    dat = [d]\n",
    "    lr_res.append(lr.predict_proba(dat)[:,1][0])\n",
    "    rf_res.append(rf.predict_proba(dat)[:,1][0])"
   ]
  },
  {
   "cell_type": "code",
   "execution_count": 39,
   "metadata": {},
   "outputs": [
    {
     "data": {
      "text/plain": [
       "(0.502088237272969, 0.25835451033039747)"
      ]
     },
     "execution_count": 39,
     "metadata": {},
     "output_type": "execute_result"
    }
   ],
   "source": [
    "# calculate mean and std for lr\n",
    "np.mean(lr_res), np.std(lr_res)"
   ]
  },
  {
   "cell_type": "code",
   "execution_count": 40,
   "metadata": {},
   "outputs": [
    {
     "data": {
      "text/plain": [
       "(0.3406825, 0.07696218515446401)"
      ]
     },
     "execution_count": 40,
     "metadata": {},
     "output_type": "execute_result"
    }
   ],
   "source": [
    "#calculate mean and std for rf\n",
    "np.mean(rf_res), np.std(rf_res)"
   ]
  },
  {
   "cell_type": "code",
   "execution_count": 41,
   "metadata": {},
   "outputs": [],
   "source": [
    "#get min and max age from training data\n",
    "maxa = tr['age'].max()\n",
    "mina = tr['age'].min()"
   ]
  },
  {
   "cell_type": "markdown",
   "metadata": {},
   "source": [
    "# generate random data for all ages in the data"
   ]
  },
  {
   "cell_type": "code",
   "execution_count": 42,
   "metadata": {},
   "outputs": [],
   "source": [
    "lr_ages = []\n",
    "rf_ages = []\n",
    "for age in range(mina, maxa+1):\n",
    "    lr_res = []\n",
    "    rf_res = []\n",
    "    for i in range(1000):\n",
    "        ELIX = [np.random.randint(2) for i in range(29)]\n",
    "        G = [np.random.randint(2) for i in range(22)]\n",
    "        drugs = [np.random.randint(30) for i in range(12)] \n",
    "        A = 0\n",
    "        AmN = 0\n",
    "        B = 0\n",
    "        H = 0\n",
    "        O = 0\n",
    "        U = 0\n",
    "        W = 0\n",
    "        r = np.random.randint(7)\n",
    "        if r == 0:\n",
    "            A = 1\n",
    "        if r == 1:\n",
    "            AmN = 1\n",
    "        if r == 2:\n",
    "            B = 1\n",
    "        if r == 3:\n",
    "            H = 1\n",
    "        if r == 4:\n",
    "            O = 1\n",
    "        if r == 5:\n",
    "            U = 1\n",
    "        if r == 6:\n",
    "            W = 1    \n",
    "        d = [age] + ELIX + G + drugs + [A, AmN, B, H, O, U, W]\n",
    "        dat = [d]\n",
    "        lr_res.append(lr.predict_proba(dat)[:,1][0])\n",
    "        rf_res.append(rf.predict_proba(dat)[:,1][0])\n",
    "    lr_ages.append(sum(lr_res)/len(lr_res))\n",
    "    rf_ages.append(sum(rf_res)/len(rf_res))"
   ]
  },
  {
   "cell_type": "code",
   "execution_count": 45,
   "metadata": {},
   "outputs": [
    {
     "data": {
      "text/plain": [
       "[<matplotlib.lines.Line2D at 0x28216600080>]"
      ]
     },
     "execution_count": 45,
     "metadata": {},
     "output_type": "execute_result"
    },
    {
     "data": {
      "image/png": "[encoded data removed]",
      "text/plain": [
       "<Figure size 432x288 with 1 Axes>"
      ]
     },
     "metadata": {},
     "output_type": "display_data"
    }
   ],
   "source": [
    "plt.plot(range(mina, maxa+1), lr_ages)\n",
    "plt.plot(range(mina, maxa+1), rf_ages)"
   ]
  },
  {
   "cell_type": "code",
   "execution_count": 46,
   "metadata": {},
   "outputs": [],
   "source": [
    "probs_l = lr.predict_proba(tr[cls])[:,1]\n",
    "probs_r = rf.predict_proba(tr[cls])[:,1]"
   ]
  },
  {
   "cell_type": "code",
   "execution_count": 47,
   "metadata": {},
   "outputs": [],
   "source": [
    "tr_res = pd.DataFrame()\n",
    "tr_res['age'] = tr['age']\n",
    "tr_res['lr'] = probs_l\n",
    "tr_res['rf'] = probs_r\n",
    "gr=tr_res.groupby('age')"
   ]
  },
  {
   "cell_type": "code",
   "execution_count": 49,
   "metadata": {},
   "outputs": [
    {
     "data": {
      "text/plain": [
       "[<matplotlib.lines.Line2D at 0x282169b43c8>]"
      ]
     },
     "execution_count": 49,
     "metadata": {},
     "output_type": "execute_result"
    },
    {
     "data": {
      "image/png": "[encoded data removed]",
      "text/plain": [
       "<Figure size 432x288 with 1 Axes>"
      ]
     },
     "metadata": {},
     "output_type": "display_data"
    }
   ],
   "source": [
    "plt.plot(range(mina, maxa+1),list(gr['lr'].mean()))\n",
    "plt.plot(range(mina, maxa+1),list(gr['rf'].mean()))"
   ]
  },
  {
   "cell_type": "code",
   "execution_count": 50,
   "metadata": {},
   "outputs": [],
   "source": [
    "probs_l_t = lr.predict_proba(ts[cls])[:,1]\n",
    "probs_r_t = rf.predict_proba(ts[cls])[:,1]"
   ]
  },
  {
   "cell_type": "code",
   "execution_count": 51,
   "metadata": {},
   "outputs": [],
   "source": [
    "ts_res = pd.DataFrame()\n",
    "ts_res['age'] = ts['age']\n",
    "ts_res['lr'] = probs_l_t\n",
    "ts_res['rf'] = probs_r_t\n",
    "grts=ts_res.groupby('age')"
   ]
  },
  {
   "cell_type": "code",
   "execution_count": 52,
   "metadata": {},
   "outputs": [
    {
     "data": {
      "text/plain": [
       "[<matplotlib.lines.Line2D at 0x28216a327f0>]"
      ]
     },
     "execution_count": 52,
     "metadata": {},
     "output_type": "execute_result"
    },
    {
     "data": {
      "image/png": "[encoded data removed]",
      "text/plain": [
       "<Figure size 432x288 with 1 Axes>"
      ]
     },
     "metadata": {},
     "output_type": "display_data"
    }
   ],
   "source": [
    "plt.plot(range(mina, maxa+1),list(gr['lr'].mean()), color='r')\n",
    "plt.plot(range(mina, maxa+1),list(gr['rf'].mean()), color='b')\n",
    "plt.plot(range(mina, maxa+1),list(grts['lr'].mean()), color='g')\n",
    "plt.plot(range(mina, maxa+1),list(grts['rf'].mean()), color='y')"
   ]
  },
  {
   "cell_type": "code",
   "execution_count": 54,
   "metadata": {},
   "outputs": [
    {
     "data": {
      "text/plain": [
       "[<matplotlib.lines.Line2D at 0x282157798d0>]"
      ]
     },
     "execution_count": 54,
     "metadata": {},
     "output_type": "execute_result"
    },
    {
     "data": {
      "image/png": "[encoded data removed]",
      "text/plain": [
       "<Figure size 432x288 with 1 Axes>"
      ]
     },
     "metadata": {},
     "output_type": "display_data"
    }
   ],
   "source": [
    "plt.plot(range(mina, maxa+1),list(gr['lr'].count()), color='r')\n",
    "plt.plot(range(mina, maxa+1),list(grts['lr'].count()), color='g')"
   ]
  },
  {
   "cell_type": "markdown",
   "metadata": {},
   "source": [
    "# generate data from -5 + 5 range"
   ]
  },
  {
   "cell_type": "code",
   "execution_count": 55,
   "metadata": {},
   "outputs": [],
   "source": [
    "lr_ages = []\n",
    "rf_ages = []\n",
    "for age in range(mina, maxa+1):\n",
    "    lr_res = []\n",
    "    rf_res = []\n",
    "    mn = max(age-5, mina)\n",
    "    mx = min(age+5, maxa)\n",
    "    dat = tr[(tr['age'] >= mn) & (tr['age'] <= mx)][cls]\n",
    "    dat['age'] = age\n",
    "    probs_l = lr.predict_proba(dat)[:,1]\n",
    "    probs_r = rf.predict_proba(dat)[:,1]\n",
    "       \n",
    "    lr_ages.append(np.mean(probs_l))\n",
    "    rf_ages.append(np.mean(probs_r))"
   ]
  },
  {
   "cell_type": "code",
   "execution_count": 56,
   "metadata": {},
   "outputs": [
    {
     "data": {
      "text/plain": [
       "[<matplotlib.lines.Line2D at 0x28216b2b9e8>]"
      ]
     },
     "execution_count": 56,
     "metadata": {},
     "output_type": "execute_result"
    },
    {
     "data": {
      "image/png": "[encoded data removed]",
      "text/plain": [
       "<Figure size 432x288 with 1 Axes>"
      ]
     },
     "metadata": {},
     "output_type": "display_data"
    }
   ],
   "source": [
    "plt.plot(range(mina, maxa+1), lr_ages)\n",
    "plt.plot(range(mina, maxa+1), rf_ages)"
   ]
  },
  {
   "cell_type": "code",
   "execution_count": 57,
   "metadata": {},
   "outputs": [],
   "source": [
    "lr_ages = []\n",
    "rf_ages = []\n",
    "lr_ages_s = []\n",
    "rf_ages_s = []\n",
    "for age in range(mina, maxa+1):\n",
    "    lr_res = []\n",
    "    rf_res = []\n",
    "    mn = max(age-5, mina)\n",
    "    mx = min(age+5, maxa)\n",
    "    dat = tr[(tr['age'] >= mn) & (tr['age'] <= mx)][cls]\n",
    "    dat['age'] = age\n",
    "    probs_l = lr.predict_proba(dat)[:,1]\n",
    "    probs_r = rf.predict_proba(dat)[:,1]\n",
    "       \n",
    "    lr_ages.append(np.mean(probs_l))\n",
    "    rf_ages.append(np.mean(probs_r))\n",
    "    lr_ages_s.append(np.std(probs_l))\n",
    "    rf_ages_s.append(np.std(probs_r))"
   ]
  },
  {
   "cell_type": "code",
   "execution_count": 58,
   "metadata": {},
   "outputs": [
    {
     "data": {
      "text/plain": [
       "array([0.15288717, 0.15291641, 0.15358524, 0.15326905, 0.15364996,\n",
       "       0.15336019, 0.15481862, 0.15600833, 0.15694053, 0.1594042 ,\n",
       "       0.16011238, 0.16216223, 0.16273165, 0.16321713, 0.16471616,\n",
       "       0.16560209, 0.16669071, 0.16668962, 0.16622906, 0.16617294,\n",
       "       0.16492335, 0.16462625, 0.16318894, 0.16331954, 0.16245649,\n",
       "       0.16079019])"
      ]
     },
     "execution_count": 58,
     "metadata": {},
     "output_type": "execute_result"
    }
   ],
   "source": [
    "np.array(lr_ages) + np.array(lr_ages_s)"
   ]
  },
  {
   "cell_type": "markdown",
   "metadata": {},
   "source": [
    "# plt.plot(range(mina, maxa+1), lr_ages)"
   ]
  },
  {
   "cell_type": "code",
   "execution_count": 59,
   "metadata": {},
   "outputs": [
    {
     "data": {
      "text/plain": [
       "<matplotlib.collections.PolyCollection at 0x28216712b00>"
      ]
     },
     "execution_count": 59,
     "metadata": {},
     "output_type": "execute_result"
    },
    {
     "data": {
      "image/png": "[encoded data removed]",
      "text/plain": [
       "<Figure size 432x288 with 1 Axes>"
      ]
     },
     "metadata": {},
     "output_type": "display_data"
    }
   ],
   "source": [
    "plt.plot(range(mina, maxa+1), np.array(lr_ages) + np.array(lr_ages_s), color='r')\n",
    "plt.plot(range(mina, maxa+1), np.array(lr_ages) - np.array(lr_ages_s), color='r')\n",
    "plt.fill_between(range(mina, maxa+1), np.array(lr_ages) + np.array(lr_ages_s), np.array(lr_ages) - np.array(lr_ages_s), color='r')"
   ]
  },
  {
   "cell_type": "code",
   "execution_count": 60,
   "metadata": {},
   "outputs": [
    {
     "data": {
      "text/plain": [
       "<matplotlib.collections.PolyCollection at 0x28216785668>"
      ]
     },
     "execution_count": 60,
     "metadata": {},
     "output_type": "execute_result"
    },
    {
     "data": {
      "image/png": "[encoded data removed]",
      "text/plain": [
       "<Figure size 432x288 with 1 Axes>"
      ]
     },
     "metadata": {},
     "output_type": "display_data"
    }
   ],
   "source": [
    "plt.ylim(-0.3,1.0)\n",
    "plt.plot(range(mina, maxa+1), np.array(rf_ages) + np.array(rf_ages_s), color='b')\n",
    "plt.plot(range(mina, maxa+1), np.array(rf_ages) - np.array(rf_ages_s), color='b')\n",
    "plt.fill_between(range(mina, maxa+1), np.array(rf_ages) + np.array(rf_ages_s), np.array(rf_ages) - np.array(rf_ages_s), color='b')\n",
    "plt.plot(range(mina, maxa+1), np.array(lr_ages) + np.array(lr_ages_s), color='r')\n",
    "plt.plot(range(mina, maxa+1), np.array(lr_ages) - np.array(lr_ages_s), color='r')\n",
    "plt.fill_between(range(mina, maxa+1), np.array(lr_ages) + np.array(lr_ages_s), np.array(lr_ages) - np.array(lr_ages_s), color='r')\n"
   ]
  },
  {
   "cell_type": "markdown",
   "metadata": {},
   "source": [
    "# look at predicted values per race"
   ]
  },
  {
   "cell_type": "code",
   "execution_count": 61,
   "metadata": {},
   "outputs": [],
   "source": [
    "tr_res['race'] = tr['race']\n",
    "ts_res['race'] = ts['race']\n",
    "gr_r_tr = tr_res.groupby('race')\n",
    "gr_r_ts = ts_res.groupby('race')"
   ]
  },
  {
   "cell_type": "code",
   "execution_count": 62,
   "metadata": {},
   "outputs": [],
   "source": [
    "p1 = gr_r_tr.lr.mean()\n",
    "p2 = gr_r_tr.rf.mean()"
   ]
  },
  {
   "cell_type": "code",
   "execution_count": 64,
   "metadata": {},
   "outputs": [
    {
     "data": {
      "image/png": "[encoded data removed]",
      "text/plain": [
       "<Figure size 432x288 with 1 Axes>"
      ]
     },
     "metadata": {},
     "output_type": "display_data"
    }
   ],
   "source": [
    "#logistic\n",
    "plt.bar(range(len(p1.index)), p1.values)\n",
    "plt.xticks(range(len(p1.index)), p1.index)\n",
    "plt.show()"
   ]
  },
  {
   "cell_type": "code",
   "execution_count": 65,
   "metadata": {},
   "outputs": [
    {
     "data": {
      "image/png": "[encoded data removed]",
      "text/plain": [
       "<Figure size 432x288 with 1 Axes>"
      ]
     },
     "metadata": {},
     "output_type": "display_data"
    }
   ],
   "source": [
    "# rf\n",
    "plt.bar(range(len(p2.index)), p2.values)\n",
    "plt.xticks(range(len(p2.index)), p2.index)\n",
    "plt.show()"
   ]
  },
  {
   "cell_type": "code",
   "execution_count": null,
   "metadata": {},
   "outputs": [],
   "source": []
  }
 ],
 "metadata": {
  "kernelspec": {
   "display_name": "Python 3",
   "language": "python",
   "name": "python3"
  },
  "language_info": {
   "codemirror_mode": {
    "name": "ipython",
    "version": 3
   },
   "file_extension": ".py",
   "mimetype": "text/x-python",
   "name": "python",
   "nbconvert_exporter": "python",
   "pygments_lexer": "ipython3",
   "version": "3.6.5"
  }
 },
 "nbformat": 4,
 "nbformat_minor": 2
}
