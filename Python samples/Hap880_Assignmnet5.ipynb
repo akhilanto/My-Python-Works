{
 "cells": [
  {
   "cell_type": "code",
   "execution_count": 2,
   "metadata": {},
   "outputs": [],
   "source": [
    "import sqlite3\n",
    "import pandas as pd\n",
    "import numpy as np\n",
    "from matplotlib import pyplot as plt"
   ]
  },
  {
   "cell_type": "code",
   "execution_count": 3,
   "metadata": {},
   "outputs": [],
   "source": [
    "conn = sqlite3.connect('C://Users//akhil//Desktop//HAP 880//Week 2//testclaims_hu.db')\n",
    "df = pd.read_sql('select * from highUtilizationPredictionV2wco', conn)"
   ]
  },
  {
   "cell_type": "code",
   "execution_count": 4,
   "metadata": {},
   "outputs": [],
   "source": [
    "race = pd.get_dummies(df['race'], dummy_na=False)\n",
    "df=pd.concat([df,race], axis=1)"
   ]
  },
  {
   "cell_type": "code",
   "execution_count": 5,
   "metadata": {},
   "outputs": [],
   "source": [
    "from sklearn.model_selection import train_test_split\n",
    "tr, ts = train_test_split(df, test_size=0.2)"
   ]
  },
  {
   "cell_type": "code",
   "execution_count": 6,
   "metadata": {},
   "outputs": [],
   "source": [
    "cls = list(df.columns)\n",
    "cls.remove('index')\n",
    "cls.remove('race')\n",
    "cls.remove('patient_id')\n",
    "cls.remove('claimCount')\n",
    "cls.remove('HighUtilizationY2')"
   ]
  },
  {
   "cell_type": "code",
   "execution_count": 7,
   "metadata": {},
   "outputs": [],
   "source": [
    "from sklearn.linear_model import LogisticRegression\n",
    "from sklearn.ensemble import RandomForestClassifier\n",
    "from sklearn.metrics import auc\n",
    "from sklearn.metrics import roc_curve"
   ]
  },
  {
   "cell_type": "code",
   "execution_count": 8,
   "metadata": {},
   "outputs": [
    {
     "data": {
      "text/plain": [
       "LogisticRegression(C=0.9, class_weight=None, dual=False, fit_intercept=True,\n",
       "          intercept_scaling=1, max_iter=1000, multi_class='warn',\n",
       "          n_jobs=None, penalty='l2', random_state=None, solver='lbfgs',\n",
       "          tol=0.0001, verbose=0, warm_start=False)"
      ]
     },
     "execution_count": 8,
     "metadata": {},
     "output_type": "execute_result"
    }
   ],
   "source": [
    "lr = LogisticRegression(solver='lbfgs', C=0.9, max_iter=1000)\n",
    "lr.fit(tr[cls], tr['HighUtilizationY2'])"
   ]
  },
  {
   "cell_type": "code",
   "execution_count": 9,
   "metadata": {},
   "outputs": [
    {
     "data": {
      "text/plain": [
       "0.822243634796585"
      ]
     },
     "execution_count": 9,
     "metadata": {},
     "output_type": "execute_result"
    }
   ],
   "source": [
    "probs_lr = lr.predict_proba(tr[cls])[:,1]\n",
    "fpr_lr, tpr_lr, thresholds_lr = roc_curve(tr['HighUtilizationY2'], probs_lr)\n",
    "auc_lr=auc(fpr_lr, tpr_lr)\n",
    "auc_lr"
   ]
  },
  {
   "cell_type": "code",
   "execution_count": 10,
   "metadata": {},
   "outputs": [
    {
     "data": {
      "text/plain": [
       "<matplotlib.collections.PathCollection at 0x1c309c5c7b8>"
      ]
     },
     "execution_count": 10,
     "metadata": {},
     "output_type": "execute_result"
    },
    {
     "data": {
      "image/png": "[encoded data removed]",
      "text/plain": [
       "<Figure size 432x288 with 1 Axes>"
      ]
     },
     "metadata": {},
     "output_type": "display_data"
    }
   ],
   "source": [
    "plt.scatter(fpr_lr, tpr_lr)"
   ]
  },
  {
   "cell_type": "code",
   "execution_count": 11,
   "metadata": {},
   "outputs": [
    {
     "data": {
      "text/plain": [
       "RandomForestClassifier(bootstrap=True, class_weight=None, criterion='gini',\n",
       "            max_depth=None, max_features='auto', max_leaf_nodes=None,\n",
       "            min_impurity_decrease=0.0, min_impurity_split=None,\n",
       "            min_samples_leaf=1, min_samples_split=2,\n",
       "            min_weight_fraction_leaf=0.0, n_estimators=400, n_jobs=None,\n",
       "            oob_score=False, random_state=None, verbose=0,\n",
       "            warm_start=False)"
      ]
     },
     "execution_count": 11,
     "metadata": {},
     "output_type": "execute_result"
    }
   ],
   "source": [
    "rf = RandomForestClassifier(n_estimators=400)\n",
    "rf.fit(tr[cls], tr['HighUtilizationY2'])"
   ]
  },
  {
   "cell_type": "code",
   "execution_count": 12,
   "metadata": {},
   "outputs": [
    {
     "data": {
      "text/plain": [
       "0.8072297859057876"
      ]
     },
     "execution_count": 12,
     "metadata": {},
     "output_type": "execute_result"
    }
   ],
   "source": [
    "probs_rf = rf.predict_proba(ts[cls])[:,1]\n",
    "fpr_rf, tpr_rf, thresholds_rf = roc_curve(ts['HighUtilizationY2'], probs_rf)\n",
    "auc_rf = auc(fpr_rf, tpr_rf)\n",
    "auc_rf"
   ]
  },
  {
   "cell_type": "code",
   "execution_count": 13,
   "metadata": {},
   "outputs": [
    {
     "data": {
      "text/plain": [
       "<matplotlib.collections.PathCollection at 0x1c312845f28>"
      ]
     },
     "execution_count": 13,
     "metadata": {},
     "output_type": "execute_result"
    },
    {
     "data": {
      "image/png": "[encoded data removed]",
      "text/plain": [
       "<Figure size 432x288 with 1 Axes>"
      ]
     },
     "metadata": {},
     "output_type": "display_data"
    }
   ],
   "source": [
    "plt.scatter(fpr_rf, tpr_rf)"
   ]
  },
  {
   "cell_type": "code",
   "execution_count": 14,
   "metadata": {},
   "outputs": [
    {
     "data": {
      "text/plain": [
       "<matplotlib.collections.PathCollection at 0x1c30ff74e10>"
      ]
     },
     "execution_count": 14,
     "metadata": {},
     "output_type": "execute_result"
    },
    {
     "data": {
      "image/png": "[encoded data removed]",
      "text/plain": [
       "<Figure size 432x288 with 1 Axes>"
      ]
     },
     "metadata": {},
     "output_type": "display_data"
    }
   ],
   "source": [
    "plt.scatter(fpr_lr, tpr_lr)\n",
    "plt.scatter(fpr_rf, tpr_rf)"
   ]
  },
  {
   "cell_type": "markdown",
   "metadata": {},
   "source": [
    "# get classification thresholds for recall 0.8"
   ]
  },
  {
   "cell_type": "code",
   "execution_count": 15,
   "metadata": {},
   "outputs": [],
   "source": [
    "r = 0\n",
    "while tpr_rf[r] < 0.8:\n",
    "    r = r+1"
   ]
  },
  {
   "cell_type": "code",
   "execution_count": 16,
   "metadata": {},
   "outputs": [
    {
     "data": {
      "text/plain": [
       "430"
      ]
     },
     "execution_count": 16,
     "metadata": {},
     "output_type": "execute_result"
    }
   ],
   "source": [
    " r"
   ]
  },
  {
   "cell_type": "code",
   "execution_count": 17,
   "metadata": {},
   "outputs": [
    {
     "data": {
      "text/plain": [
       "(0.8065642458100558, 0.35705851792377086, 0.05)"
      ]
     },
     "execution_count": 17,
     "metadata": {},
     "output_type": "execute_result"
    }
   ],
   "source": [
    "tpr_rf[r], fpr_rf[r], thresholds_rf[r]"
   ]
  },
  {
   "cell_type": "code",
   "execution_count": 18,
   "metadata": {},
   "outputs": [],
   "source": [
    "l = 0\n",
    "while tpr_lr[l] < 0.8:\n",
    "    l = l+1"
   ]
  },
  {
   "cell_type": "code",
   "execution_count": 19,
   "metadata": {},
   "outputs": [
    {
     "data": {
      "text/plain": [
       "(0.8000687639676809, 0.3160799981087918, 0.04768294758848518)"
      ]
     },
     "execution_count": 19,
     "metadata": {},
     "output_type": "execute_result"
    }
   ],
   "source": [
    "tpr_lr[l], fpr_lr[l], thresholds_lr[l]"
   ]
  },
  {
   "cell_type": "code",
   "execution_count": 20,
   "metadata": {},
   "outputs": [
    {
     "data": {
      "text/plain": [
       "0.06334881663348817"
      ]
     },
     "execution_count": 20,
     "metadata": {},
     "output_type": "execute_result"
    }
   ],
   "source": [
    "ts['HighUtilizationY2'].mean()"
   ]
  },
  {
   "cell_type": "code",
   "execution_count": 21,
   "metadata": {},
   "outputs": [
    {
     "data": {
      "text/plain": [
       "array([False, False,  True, ..., False, False,  True])"
      ]
     },
     "execution_count": 21,
     "metadata": {},
     "output_type": "execute_result"
    }
   ],
   "source": [
    "probs_rf > 0.05"
   ]
  },
  {
   "cell_type": "markdown",
   "metadata": {},
   "source": [
    "# generate one synthetic patient with all 0s and age 65"
   ]
  },
  {
   "cell_type": "code",
   "execution_count": 22,
   "metadata": {},
   "outputs": [],
   "source": [
    "age = 65\n",
    "ELIX = [0 for i in range(29)]\n",
    "G = [0 for i in range(22)]\n",
    "drugs = [0 for i in range(12)]\n",
    "A = 0\n",
    "AmN = 0\n",
    "B = 0\n",
    "H = 0\n",
    "O = 0\n",
    "U = 0\n",
    "W = 0\n",
    "d = [age] + ELIX + G + drugs + [A, AmN, B, H, O, U, W]"
   ]
  },
  {
   "cell_type": "code",
   "execution_count": 23,
   "metadata": {},
   "outputs": [],
   "source": [
    "dat = [d]"
   ]
  },
  {
   "cell_type": "code",
   "execution_count": 28,
   "metadata": {},
   "outputs": [
    {
     "data": {
      "text/plain": [
       "array([[0.99381712, 0.00618288]])"
      ]
     },
     "execution_count": 28,
     "metadata": {},
     "output_type": "execute_result"
    }
   ],
   "source": [
    "lr.predict_proba(dat)"
   ]
  },
  {
   "cell_type": "code",
   "execution_count": 29,
   "metadata": {},
   "outputs": [
    {
     "data": {
      "text/plain": [
       "array([[1., 0.]])"
      ]
     },
     "execution_count": 29,
     "metadata": {},
     "output_type": "execute_result"
    }
   ],
   "source": [
    "rf.predict_proba(dat)"
   ]
  },
  {
   "cell_type": "markdown",
   "metadata": {},
   "source": [
    "# now generate random data"
   ]
  },
  {
   "cell_type": "code",
   "execution_count": 35,
   "metadata": {},
   "outputs": [],
   "source": [
    "# fixed age\n",
    "age = 65\n",
    "\n",
    "# randomly select ELIX codes\n",
    "ELIX = [np.random.randint(2) for i in range(29)]\n",
    "\n",
    "# randomly select procedures\n",
    "G = [np.random.randint(2) for i in range(22)]\n",
    "\n",
    "# randomly select drug counts\n",
    "drugs = [np.random.randint(13) for i in range(12)] \n",
    "\n",
    "# zero all races\n",
    "A = 0\n",
    "AmN = 0\n",
    "B = 0\n",
    "H = 0\n",
    "O = 0\n",
    "U = 0\n",
    "W = 0\n",
    "# and randomly select race\n",
    "r = np.random.randint(7)\n",
    "if r == 0:\n",
    "    A = 1\n",
    "if r == 1:\n",
    "    AmN = 1\n",
    "if r == 2:\n",
    "    B = 1\n",
    "if r == 3:\n",
    "    H = 1\n",
    "if r == 4:\n",
    "    O = 1\n",
    "if r == 5:\n",
    "    U = 1\n",
    "if r == 6:\n",
    "    W = 1    \n",
    "d = [age] + ELIX + G + drugs + [A, AmN, B, H, O, U, W]\n",
    "dat = [d]"
   ]
  },
  {
   "cell_type": "code",
   "execution_count": 36,
   "metadata": {},
   "outputs": [
    {
     "data": {
      "text/plain": [
       "array([[0.38471925, 0.61528075]])"
      ]
     },
     "execution_count": 36,
     "metadata": {},
     "output_type": "execute_result"
    }
   ],
   "source": [
    "lr.predict_proba(dat)"
   ]
  },
  {
   "cell_type": "code",
   "execution_count": 37,
   "metadata": {},
   "outputs": [
    {
     "data": {
      "text/plain": [
       "0.3675"
      ]
     },
     "execution_count": 37,
     "metadata": {},
     "output_type": "execute_result"
    }
   ],
   "source": [
    "rf.predict_proba(dat)[:,1][0]"
   ]
  },
  {
   "cell_type": "markdown",
   "metadata": {},
   "source": [
    "# now simulate 1000 random patients"
   ]
  },
  {
   "cell_type": "code",
   "execution_count": 38,
   "metadata": {},
   "outputs": [],
   "source": [
    "lr_res = []\n",
    "rf_res = []\n",
    "for i in range(1000):\n",
    "    age = 65\n",
    "    ELIX = [np.random.randint(2) for i in range(29)]\n",
    "    G = [np.random.randint(2) for i in range(22)]\n",
    "    drugs = [np.random.randint(30) for i in range(12)] \n",
    "    A = 0\n",
    "    AmN = 0\n",
    "    B = 0\n",
    "    H = 0\n",
    "    O = 0\n",
    "    U = 0\n",
    "    W = 0\n",
    "    r = np.random.randint(7)\n",
    "    if r == 0:\n",
    "        A = 1\n",
    "    if r == 1:\n",
    "        AmN = 1\n",
    "    if r == 2:\n",
    "        B = 1\n",
    "    if r == 3:\n",
    "        H = 1\n",
    "    if r == 4:\n",
    "        O = 1\n",
    "    if r == 5:\n",
    "        U = 1\n",
    "    if r == 6:\n",
    "        W = 1    \n",
    "    d = [age] + ELIX + G + drugs + [A, AmN, B, H, O, U, W]\n",
    "    dat = [d]\n",
    "    lr_res.append(lr.predict_proba(dat)[:,1][0])\n",
    "    rf_res.append(rf.predict_proba(dat)[:,1][0])"
   ]
  },
  {
   "cell_type": "code",
   "execution_count": 39,
   "metadata": {},
   "outputs": [
    {
     "data": {
      "text/plain": [
       "(0.502088237272969, 0.25835451033039747)"
      ]
     },
     "execution_count": 39,
     "metadata": {},
     "output_type": "execute_result"
    }
   ],
   "source": [
    "# calculate mean and std for lr\n",
    "np.mean(lr_res), np.std(lr_res)"
   ]
  },
  {
   "cell_type": "code",
   "execution_count": 40,
   "metadata": {},
   "outputs": [
    {
     "data": {
      "text/plain": [
       "(0.3406825, 0.07696218515446401)"
      ]
     },
     "execution_count": 40,
     "metadata": {},
     "output_type": "execute_result"
    }
   ],
   "source": [
    "#calculate mean and std for rf\n",
    "np.mean(rf_res), np.std(rf_res)"
   ]
  },
  {
   "cell_type": "code",
   "execution_count": 41,
   "metadata": {},
   "outputs": [],
   "source": [
    "#get min and max age from training data\n",
    "maxa = tr['age'].max()\n",
    "mina = tr['age'].min()"
   ]
  },
  {
   "cell_type": "markdown",
   "metadata": {},
   "source": [
    "# generate random data for all ages in the data"
   ]
  },
  {
   "cell_type": "code",
   "execution_count": 42,
   "metadata": {},
   "outputs": [],
   "source": [
    "lr_ages = []\n",
    "rf_ages = []\n",
    "for age in range(mina, maxa+1):\n",
    "    lr_res = []\n",
    "    rf_res = []\n",
    "    for i in range(1000):\n",
    "        ELIX = [np.random.randint(2) for i in range(29)]\n",
    "        G = [np.random.randint(2) for i in range(22)]\n",
    "        drugs = [np.random.randint(30) for i in range(12)] \n",
    "        A = 0\n",
    "        AmN = 0\n",
    "        B = 0\n",
    "        H = 0\n",
    "        O = 0\n",
    "        U = 0\n",
    "        W = 0\n",
    "        r = np.random.randint(7)\n",
    "        if r == 0:\n",
    "            A = 1\n",
    "        if r == 1:\n",
    "            AmN = 1\n",
    "        if r == 2:\n",
    "            B = 1\n",
    "        if r == 3:\n",
    "            H = 1\n",
    "        if r == 4:\n",
    "            O = 1\n",
    "        if r == 5:\n",
    "            U = 1\n",
    "        if r == 6:\n",
    "            W = 1    \n",
    "        d = [age] + ELIX + G + drugs + [A, AmN, B, H, O, U, W]\n",
    "        dat = [d]\n",
    "        lr_res.append(lr.predict_proba(dat)[:,1][0])\n",
    "        rf_res.append(rf.predict_proba(dat)[:,1][0])\n",
    "    lr_ages.append(sum(lr_res)/len(lr_res))\n",
    "    rf_ages.append(sum(rf_res)/len(rf_res))"
   ]
  },
  {
   "cell_type": "code",
   "execution_count": 45,
   "metadata": {},
   "outputs": [
    {
     "data": {
      "text/plain": [
       "[<matplotlib.lines.Line2D at 0x28216600080>]"
      ]
     },
     "execution_count": 45,
     "metadata": {},
     "output_type": "execute_result"
    },
    {
     "data": {
      "image/png": "[encoded data removed]",
      "text/plain": [
       "<Figure size 432x288 with 1 Axes>"
      ]
     },
     "metadata": {},
     "output_type": "display_data"
    }
   ],
   "source": [
    "plt.plot(range(mina, maxa+1), lr_ages)\n",
    "plt.plot(range(mina, maxa+1), rf_ages)"
   ]
  },
  {
   "cell_type": "code",
   "execution_count": 46,
   "metadata": {},
   "outputs": [],
   "source": [
    "probs_l = lr.predict_proba(tr[cls])[:,1]\n",
    "probs_r = rf.predict_proba(tr[cls])[:,1]"
   ]
  },
  {
   "cell_type": "code",
   "execution_count": 47,
   "metadata": {},
   "outputs": [],
   "source": [
    "tr_res = pd.DataFrame()\n",
    "tr_res['age'] = tr['age']\n",
    "tr_res['lr'] = probs_l\n",
    "tr_res['rf'] = probs_r\n",
    "gr=tr_res.groupby('age')"
   ]
  },
  {
   "cell_type": "code",
   "execution_count": 49,
   "metadata": {},
   "outputs": [
    {
     "data": {
      "text/plain": [
       "[<matplotlib.lines.Line2D at 0x282169b43c8>]"
      ]
     },
     "execution_count": 49,
     "metadata": {},
     "output_type": "execute_result"
    },
    {
     "data": {
      "image/png": "[encoded data removed]",
      "text/plain": [
       "<Figure size 432x288 with 1 Axes>"
      ]
     },
     "metadata": {},
     "output_type": "display_data"
    }
   ],
   "source": [
    "plt.plot(range(mina, maxa+1),list(gr['lr'].mean()))\n",
    "plt.plot(range(mina, maxa+1),list(gr['rf'].mean()))"
   ]
  },
  {
   "cell_type": "code",
   "execution_count": 50,
   "metadata": {},
   "outputs": [],
   "source": [
    "probs_l_t = lr.predict_proba(ts[cls])[:,1]\n",
    "probs_r_t = rf.predict_proba(ts[cls])[:,1]"
   ]
  },
  {
   "cell_type": "code",
   "execution_count": 51,
   "metadata": {},
   "outputs": [],
   "source": [
    "ts_res = pd.DataFrame()\n",
    "ts_res['age'] = ts['age']\n",
    "ts_res['lr'] = probs_l_t\n",
    "ts_res['rf'] = probs_r_t\n",
    "grts=ts_res.groupby('age')"
   ]
  },
  {
   "cell_type": "code",
   "execution_count": 52,
   "metadata": {},
   "outputs": [
    {
     "data": {
      "text/plain": [
       "[<matplotlib.lines.Line2D at 0x28216a327f0>]"
      ]
     },
     "execution_count": 52,
     "metadata": {},
     "output_type": "execute_result"
    },
    {
     "data": {
      "image/png": "[encoded data removed]",
      "text/plain": [
       "<Figure size 432x288 with 1 Axes>"
      ]
     },
     "metadata": {},
     "output_type": "display_data"
    }
   ],
   "source": [
    "plt.plot(range(mina, maxa+1),list(gr['lr'].mean()), color='r')\n",
    "plt.plot(range(mina, maxa+1),list(gr['rf'].mean()), color='b')\n",
    "plt.plot(range(mina, maxa+1),list(grts['lr'].mean()), color='g')\n",
    "plt.plot(range(mina, maxa+1),list(grts['rf'].mean()), color='y')"
   ]
  },
  {
   "cell_type": "code",
   "execution_count": 54,
   "metadata": {},
   "outputs": [
    {
     "data": {
      "text/plain": [
       "[<matplotlib.lines.Line2D at 0x282157798d0>]"
      ]
     },
     "execution_count": 54,
     "metadata": {},
     "output_type": "execute_result"
    },
    {
     "data": {
      "image/png": "[encoded data removed]",
      "text/plain": [
       "<Figure size 432x288 with 1 Axes>"
      ]
     },
     "metadata": {},
     "output_type": "display_data"
    }
   ],
   "source": [
    "plt.plot(range(mina, maxa+1),list(gr['lr'].count()), color='r')\n",
    "plt.plot(range(mina, maxa+1),list(grts['lr'].count()), color='g')"
   ]
  },
  {
   "cell_type": "markdown",
   "metadata": {},
   "source": [
    "# generate data from -5 + 5 range"
   ]
  },
  {
   "cell_type": "code",
   "execution_count": 55,
   "metadata": {},
   "outputs": [],
   "source": [
    "lr_ages = []\n",
    "rf_ages = []\n",
    "for age in range(mina, maxa+1):\n",
    "    lr_res = []\n",
    "    rf_res = []\n",
    "    mn = max(age-5, mina)\n",
    "    mx = min(age+5, maxa)\n",
    "    dat = tr[(tr['age'] >= mn) & (tr['age'] <= mx)][cls]\n",
    "    dat['age'] = age\n",
    "    probs_l = lr.predict_proba(dat)[:,1]\n",
    "    probs_r = rf.predict_proba(dat)[:,1]\n",
    "       \n",
    "    lr_ages.append(np.mean(probs_l))\n",
    "    rf_ages.append(np.mean(probs_r))"
   ]
  },
  {
   "cell_type": "code",
   "execution_count": 56,
   "metadata": {},
   "outputs": [
    {
     "data": {
      "text/plain": [
       "[<matplotlib.lines.Line2D at 0x28216b2b9e8>]"
      ]
     },
     "execution_count": 56,
     "metadata": {},
     "output_type": "execute_result"
    },
    {
     "data": {
      "image/png": "[encoded data removed]",
      "text/plain": [
       "<Figure size 432x288 with 1 Axes>"
      ]
     },
     "metadata": {},
     "output_type": "display_data"
    }
   ],
   "source": [
    "plt.plot(range(mina, maxa+1), lr_ages)\n",
    "plt.plot(range(mina, maxa+1), rf_ages)"
   ]
  },
  {
   "cell_type": "code",
   "execution_count": 57,
   "metadata": {},
   "outputs": [],
   "source": [
    "lr_ages = []\n",
    "rf_ages = []\n",
    "lr_ages_s = []\n",
    "rf_ages_s = []\n",
    "for age in range(mina, maxa+1):\n",
    "    lr_res = []\n",
    "    rf_res = []\n",
    "    mn = max(age-5, mina)\n",
    "    mx = min(age+5, maxa)\n",
    "    dat = tr[(tr['age'] >= mn) & (tr['age'] <= mx)][cls]\n",
    "    dat['age'] = age\n",
    "    probs_l = lr.predict_proba(dat)[:,1]\n",
    "    probs_r = rf.predict_proba(dat)[:,1]\n",
    "       \n",
    "    lr_ages.append(np.mean(probs_l))\n",
    "    rf_ages.append(np.mean(probs_r))\n",
    "    lr_ages_s.append(np.std(probs_l))\n",
    "    rf_ages_s.append(np.std(probs_r))"
   ]
  },
  {
   "cell_type": "code",
   "execution_count": 58,
   "metadata": {},
   "outputs": [
    {
     "data": {
      "text/plain": [
       "array([0.15288717, 0.15291641, 0.15358524, 0.15326905, 0.15364996,\n",
       "       0.15336019, 0.15481862, 0.15600833, 0.15694053, 0.1594042 ,\n",
       "       0.16011238, 0.16216223, 0.16273165, 0.16321713, 0.16471616,\n",
       "       0.16560209, 0.16669071, 0.16668962, 0.16622906, 0.16617294,\n",
       "       0.16492335, 0.16462625, 0.16318894, 0.16331954, 0.16245649,\n",
       "       0.16079019])"
      ]
     },
     "execution_count": 58,
     "metadata": {},
     "output_type": "execute_result"
    }
   ],
   "source": [
    "np.array(lr_ages) + np.array(lr_ages_s)"
   ]
  },
  {
   "cell_type": "markdown",
   "metadata": {},
   "source": [
    "# plt.plot(range(mina, maxa+1), lr_ages)"
   ]
  },
  {
   "cell_type": "code",
   "execution_count": 59,
   "metadata": {},
   "outputs": [
    {
     "data": {
      "text/plain": [
       "<matplotlib.collections.PolyCollection at 0x28216712b00>"
      ]
     },
     "execution_count": 59,
     "metadata": {},
     "output_type": "execute_result"
    },
    {
     "data": {
      "image/png": "[encoded data removed]",
      "text/plain": [
       "<Figure size 432x288 with 1 Axes>"
      ]
     },
     "metadata": {},
     "output_type": "display_data"
    }
   ],
   "source": [
    "plt.plot(range(mina, maxa+1), np.array(lr_ages) + np.array(lr_ages_s), color='r')\n",
    "plt.plot(range(mina, maxa+1), np.array(lr_ages) - np.array(lr_ages_s), color='r')\n",
    "plt.fill_between(range(mina, maxa+1), np.array(lr_ages) + np.array(lr_ages_s), np.array(lr_ages) - np.array(lr_ages_s), color='r')"
   ]
  },
  {
   "cell_type": "code",
   "execution_count": 60,
   "metadata": {},
   "outputs": [
    {
     "data": {
      "text/plain": [
       "<matplotlib.collections.PolyCollection at 0x28216785668>"
      ]
     },
     "execution_count": 60,
     "metadata": {},
     "output_type": "execute_result"
    },
    {
     "data": {
      "image/png": "[encoded data removed]",
      "text/plain": [
       "<Figure size 432x288 with 1 Axes>"
      ]
     },
     "metadata": {},
     "output_type": "display_data"
    }
   ],
   "source": [
    "plt.ylim(-0.3,1.0)\n",
    "plt.plot(range(mina, maxa+1), np.array(rf_ages) + np.array(rf_ages_s), color='b')\n",
    "plt.plot(range(mina, maxa+1), np.array(rf_ages) - np.array(rf_ages_s), color='b')\n",
    "plt.fill_between(range(mina, maxa+1), np.array(rf_ages) + np.array(rf_ages_s), np.array(rf_ages) - np.array(rf_ages_s), color='b')\n",
    "plt.plot(range(mina, maxa+1), np.array(lr_ages) + np.array(lr_ages_s), color='r')\n",
    "plt.plot(range(mina, maxa+1), np.array(lr_ages) - np.array(lr_ages_s), color='r')\n",
    "plt.fill_between(range(mina, maxa+1), np.array(lr_ages) + np.array(lr_ages_s), np.array(lr_ages) - np.array(lr_ages_s), color='r')\n"
   ]
  },
  {
   "cell_type": "markdown",
   "metadata": {},
   "source": [
    "# look at predicted values per race"
   ]
  },
  {
   "cell_type": "code",
   "execution_count": 61,
   "metadata": {},
   "outputs": [],
   "source": [
    "tr_res['race'] = tr['race']\n",
    "ts_res['race'] = ts['race']\n",
    "gr_r_tr = tr_res.groupby('race')\n",
    "gr_r_ts = ts_res.groupby('race')"
   ]
  },
  {
   "cell_type": "code",
   "execution_count": 62,
   "metadata": {},
   "outputs": [],
   "source": [
    "p1 = gr_r_tr.lr.mean()\n",
    "p2 = gr_r_tr.rf.mean()"
   ]
  },
  {
   "cell_type": "code",
   "execution_count": 64,
   "metadata": {},
   "outputs": [
    {
     "data": {
      "image/png": "[encoded data removed]",
      "text/plain": [
       "<Figure size 432x288 with 1 Axes>"
      ]
     },
     "metadata": {},
     "output_type": "display_data"
    }
   ],
   "source": [
    "#logistic\n",
    "plt.bar(range(len(p1.index)), p1.values)\n",
    "plt.xticks(range(len(p1.index)), p1.index)\n",
    "plt.show()"
   ]
  },
  {
   "cell_type": "code",
   "execution_count": 65,
   "metadata": {},
   "outputs": [
    {
     "data": {
      "image/png": "[encoded data removed]",
      "text/plain": [
       "<Figure size 432x288 with 1 Axes>"
      ]
     },
     "metadata": {},
     "output_type": "display_data"
    }
   ],
   "source": [
    "# rf\n",
    "plt.bar(range(len(p2.index)), p2.values)\n",
    "plt.xticks(range(len(p2.index)), p2.index)\n",
    "plt.show()"
   ]
  },
  {
   "cell_type": "markdown",
   "metadata": {},
   "source": [
    "# Geranrating data which is random variations of orginal data"
   ]
  },
  {
   "cell_type": "code",
   "execution_count": 66,
   "metadata": {},
   "outputs": [],
   "source": [
    "trD = pd.DataFrame(tr)\n",
    "sz=len(trD.index)"
   ]
  },
  {
   "cell_type": "code",
   "execution_count": 75,
   "metadata": {},
   "outputs": [],
   "source": [
    "# generate random matrix with 0.05 porbability  of changing  a value\n",
    "ELIX = (np.random.rand(sz,29) < 0.5).astype('int')"
   ]
  },
  {
   "cell_type": "code",
   "execution_count": 76,
   "metadata": {},
   "outputs": [],
   "source": [
    "# modify the binary values\n",
    "trD.loc[:][['ELIX1','ELIX2','ELIX3','ELIX4','ELIX5','ELIX6','ELIX7','ELIX8','ELIX9','ELIX10','ELIX11','ELIX12',\n",
    "     'ELIX13','ELIX14','ELIX15','ELIX16','ELIX17','ELIX18','ELIX19','ELIX20','ELIX21','ELIX22','ELIX23',\n",
    "     'ELIX24','ELIX25','ELIX26','ELIX27','ELIX28','ELIX29']] -= ELIX"
   ]
  },
  {
   "cell_type": "code",
   "execution_count": 77,
   "metadata": {},
   "outputs": [],
   "source": [
    "# take absolute value to fix -1s\n",
    "trD.loc[:][['ELIX1','ELIX2','ELIX3','ELIX4','ELIX5','ELIX6','ELIX7','ELIX8','ELIX9','ELIX10','ELIX11','ELIX12',\n",
    "     'ELIX13','ELIX14','ELIX15','ELIX16','ELIX17','ELIX18','ELIX19','ELIX20','ELIX21','ELIX22','ELIX23',\n",
    "     'ELIX24','ELIX25','ELIX26','ELIX27','ELIX28','ELIX29']] = abs(trD.loc[:][['ELIX1','ELIX2','ELIX3','ELIX4','ELIX5','ELIX6','ELIX7','ELIX8','ELIX9','ELIX10','ELIX11','ELIX12',\n",
    "     'ELIX13','ELIX14','ELIX15','ELIX16','ELIX17','ELIX18','ELIX19','ELIX20','ELIX21','ELIX22','ELIX23',\n",
    "     'ELIX24','ELIX25','ELIX26','ELIX27','ELIX28','ELIX29']])"
   ]
  },
  {
   "cell_type": "code",
   "execution_count": 79,
   "metadata": {},
   "outputs": [],
   "source": [
    "G = (np.random.rand(sz,22) < 0.1).astype('int')\n",
    "\n",
    "# modify the binary values\n",
    "trD.loc[:][['G-2','G-3','G-4','G-5','G-6','G-7','G-8','G-9','G-10','G-11','G-12',\n",
    "     'G-13','G-14','G-15','G-16','G-17','G-18','G-19','G-20','G-21','G-22','G-23']] -= G\n",
    "\n",
    "# take absolute value to fix -1s\n",
    "trD.loc[:][['G-2','G-3','G-4','G-5','G-6','G-7','G-8','G-9','G-10','G-11','G-12',\n",
    "     'G-13','G-14','G-15','G-16','G-17','G-18','G-19','G-20','G-21','G-22','G-23']] = abs(trD.loc[:][['G-2','G-3','G-4','G-5','G-6','G-7','G-8','G-9','G-10','G-11','G-12',\n",
    "     'G-13','G-14','G-15','G-16','G-17','G-18','G-19','G-20','G-21','G-22','G-23']])"
   ]
  },
  {
   "cell_type": "code",
   "execution_count": 80,
   "metadata": {},
   "outputs": [],
   "source": [
    "ageDv = trD['age'].std()"
   ]
  },
  {
   "cell_type": "code",
   "execution_count": 82,
   "metadata": {},
   "outputs": [
    {
     "data": {
      "text/plain": [
       "65120     67.317668\n",
       "80757     85.348197\n",
       "33296     95.567121\n",
       "57389     75.372272\n",
       "53539     69.155216\n",
       "105962    75.353313\n",
       "63626     73.115643\n",
       "25331     84.386030\n",
       "43914     66.073777\n",
       "15583     58.978044\n",
       "47767     65.973608\n",
       "80986     72.779245\n",
       "93789     67.198112\n",
       "102472    67.886054\n",
       "25967     72.590737\n",
       "42422     75.260081\n",
       "33041     79.122058\n",
       "65847     74.174588\n",
       "70467     59.741210\n",
       "12706     63.916318\n",
       "64450     69.737276\n",
       "88693     77.879442\n",
       "78591     56.633769\n",
       "56230     64.114407\n",
       "42524     96.243875\n",
       "111906    84.011245\n",
       "54708     77.397531\n",
       "26297     83.703265\n",
       "94460     83.752695\n",
       "16151     64.912138\n",
       "            ...    \n",
       "71816     72.335887\n",
       "60592     82.149475\n",
       "12426     90.038958\n",
       "64969     78.884029\n",
       "34574     66.996971\n",
       "26445     76.920333\n",
       "47573     78.213532\n",
       "71504     84.535864\n",
       "96441     88.514346\n",
       "89293     99.134337\n",
       "106057    84.137096\n",
       "99951     89.278736\n",
       "91119     65.282967\n",
       "84883     80.448146\n",
       "25682     74.836793\n",
       "26870     72.204328\n",
       "58083     91.106618\n",
       "29237     93.728480\n",
       "74923     75.148810\n",
       "70106     95.254903\n",
       "47638     79.144113\n",
       "75839     90.856547\n",
       "61143     90.420981\n",
       "95911     75.437137\n",
       "70727     67.777057\n",
       "40405     91.007939\n",
       "10610     54.939390\n",
       "38144     76.065959\n",
       "28138     84.135999\n",
       "23848     59.895818\n",
       "Name: age, Length: 90419, dtype: float64"
      ]
     },
     "execution_count": 82,
     "metadata": {},
     "output_type": "execute_result"
    }
   ],
   "source": [
    "trD['age']+np.random.normal(0,ageDv,trD['age'].size)"
   ]
  },
  {
   "cell_type": "code",
   "execution_count": 85,
   "metadata": {},
   "outputs": [],
   "source": [
    "d = ['drugs_m0-1', 'drugs_m1-2', 'drugs_m2-3', 'drugs_m3-4', 'drugs_m4-5', 'drugs_m5-6', 'drugs_m6-7', \n",
    "              'drugs_m7-8', 'drugs_m8-9', 'drugs_m9-10', 'drugs_m10-11','drugs_m11-12']\n",
    "drugsDv = trD[d].std(axis=0)"
   ]
  },
  {
   "cell_type": "code",
   "execution_count": 95,
   "metadata": {},
   "outputs": [],
   "source": [
    "dm=trD[d]+np.random.normal(0,1,(trD.index.size,12))*np.array(drugsDv)"
   ]
  },
  {
   "cell_type": "code",
   "execution_count": 96,
   "metadata": {},
   "outputs": [
    {
     "data": {
      "text/html": [
       "<div>\n",
       "<style scoped>\n",
       "    .dataframe tbody tr th:only-of-type {\n",
       "        vertical-align: middle;\n",
       "    }\n",
       "\n",
       "    .dataframe tbody tr th {\n",
       "        vertical-align: top;\n",
       "    }\n",
       "\n",
       "    .dataframe thead th {\n",
       "        text-align: right;\n",
       "    }\n",
       "</style>\n",
       "<table border=\"1\" class=\"dataframe\">\n",
       "  <thead>\n",
       "    <tr style=\"text-align: right;\">\n",
       "      <th></th>\n",
       "      <th>drugs_m0-1</th>\n",
       "      <th>drugs_m1-2</th>\n",
       "      <th>drugs_m2-3</th>\n",
       "      <th>drugs_m3-4</th>\n",
       "      <th>drugs_m4-5</th>\n",
       "      <th>drugs_m5-6</th>\n",
       "      <th>drugs_m6-7</th>\n",
       "      <th>drugs_m7-8</th>\n",
       "      <th>drugs_m8-9</th>\n",
       "      <th>drugs_m9-10</th>\n",
       "      <th>drugs_m10-11</th>\n",
       "      <th>drugs_m11-12</th>\n",
       "    </tr>\n",
       "  </thead>\n",
       "  <tbody>\n",
       "    <tr>\n",
       "      <th>65120</th>\n",
       "      <td>1.958006</td>\n",
       "      <td>0.188135</td>\n",
       "      <td>3.776626</td>\n",
       "      <td>2.665179</td>\n",
       "      <td>-0.299566</td>\n",
       "      <td>2.887607</td>\n",
       "      <td>3.710660</td>\n",
       "      <td>2.661699</td>\n",
       "      <td>-0.284659</td>\n",
       "      <td>5.324839</td>\n",
       "      <td>1.870653</td>\n",
       "      <td>6.921724</td>\n",
       "    </tr>\n",
       "    <tr>\n",
       "      <th>80757</th>\n",
       "      <td>0.585937</td>\n",
       "      <td>-0.773589</td>\n",
       "      <td>5.737391</td>\n",
       "      <td>-1.621703</td>\n",
       "      <td>-3.133672</td>\n",
       "      <td>-0.281444</td>\n",
       "      <td>3.060734</td>\n",
       "      <td>-0.285408</td>\n",
       "      <td>0.736153</td>\n",
       "      <td>-1.557619</td>\n",
       "      <td>-2.917845</td>\n",
       "      <td>1.869269</td>\n",
       "    </tr>\n",
       "    <tr>\n",
       "      <th>33296</th>\n",
       "      <td>1.502693</td>\n",
       "      <td>0.690316</td>\n",
       "      <td>0.167166</td>\n",
       "      <td>8.456645</td>\n",
       "      <td>0.425885</td>\n",
       "      <td>2.294744</td>\n",
       "      <td>4.787429</td>\n",
       "      <td>2.307580</td>\n",
       "      <td>3.470672</td>\n",
       "      <td>2.658492</td>\n",
       "      <td>2.111205</td>\n",
       "      <td>3.985114</td>\n",
       "    </tr>\n",
       "    <tr>\n",
       "      <th>57389</th>\n",
       "      <td>0.749933</td>\n",
       "      <td>2.477138</td>\n",
       "      <td>-0.198292</td>\n",
       "      <td>3.401467</td>\n",
       "      <td>0.518273</td>\n",
       "      <td>0.247849</td>\n",
       "      <td>1.625442</td>\n",
       "      <td>-2.543425</td>\n",
       "      <td>2.503456</td>\n",
       "      <td>3.103372</td>\n",
       "      <td>6.604357</td>\n",
       "      <td>-3.157616</td>\n",
       "    </tr>\n",
       "    <tr>\n",
       "      <th>53539</th>\n",
       "      <td>5.225592</td>\n",
       "      <td>4.514062</td>\n",
       "      <td>7.796477</td>\n",
       "      <td>2.020386</td>\n",
       "      <td>8.690966</td>\n",
       "      <td>6.999107</td>\n",
       "      <td>4.693729</td>\n",
       "      <td>6.748582</td>\n",
       "      <td>-0.354987</td>\n",
       "      <td>0.888967</td>\n",
       "      <td>10.410497</td>\n",
       "      <td>-1.707247</td>\n",
       "    </tr>\n",
       "    <tr>\n",
       "      <th>105962</th>\n",
       "      <td>0.762437</td>\n",
       "      <td>-0.313689</td>\n",
       "      <td>-0.632526</td>\n",
       "      <td>-2.064454</td>\n",
       "      <td>0.991991</td>\n",
       "      <td>-0.716534</td>\n",
       "      <td>2.183639</td>\n",
       "      <td>1.282684</td>\n",
       "      <td>3.228870</td>\n",
       "      <td>0.757973</td>\n",
       "      <td>1.202927</td>\n",
       "      <td>2.211697</td>\n",
       "    </tr>\n",
       "    <tr>\n",
       "      <th>63626</th>\n",
       "      <td>-3.169719</td>\n",
       "      <td>-0.803697</td>\n",
       "      <td>-1.626294</td>\n",
       "      <td>-0.915257</td>\n",
       "      <td>-1.704646</td>\n",
       "      <td>-2.570588</td>\n",
       "      <td>-1.997563</td>\n",
       "      <td>-1.409359</td>\n",
       "      <td>2.482650</td>\n",
       "      <td>-2.151355</td>\n",
       "      <td>-2.003834</td>\n",
       "      <td>-4.536789</td>\n",
       "    </tr>\n",
       "    <tr>\n",
       "      <th>25331</th>\n",
       "      <td>0.235342</td>\n",
       "      <td>1.016604</td>\n",
       "      <td>0.701735</td>\n",
       "      <td>-0.641619</td>\n",
       "      <td>-2.872390</td>\n",
       "      <td>-1.728725</td>\n",
       "      <td>-1.463615</td>\n",
       "      <td>7.023095</td>\n",
       "      <td>1.591572</td>\n",
       "      <td>-0.553682</td>\n",
       "      <td>0.534067</td>\n",
       "      <td>0.335375</td>\n",
       "    </tr>\n",
       "    <tr>\n",
       "      <th>43914</th>\n",
       "      <td>9.972240</td>\n",
       "      <td>4.355413</td>\n",
       "      <td>4.386734</td>\n",
       "      <td>8.093746</td>\n",
       "      <td>6.450401</td>\n",
       "      <td>2.211224</td>\n",
       "      <td>4.536848</td>\n",
       "      <td>9.089450</td>\n",
       "      <td>0.552766</td>\n",
       "      <td>5.037592</td>\n",
       "      <td>6.416098</td>\n",
       "      <td>6.322598</td>\n",
       "    </tr>\n",
       "    <tr>\n",
       "      <th>15583</th>\n",
       "      <td>-4.413320</td>\n",
       "      <td>3.989456</td>\n",
       "      <td>-3.331540</td>\n",
       "      <td>-1.713259</td>\n",
       "      <td>-1.742046</td>\n",
       "      <td>-1.511947</td>\n",
       "      <td>4.376543</td>\n",
       "      <td>-4.728465</td>\n",
       "      <td>3.287195</td>\n",
       "      <td>-1.262843</td>\n",
       "      <td>0.661943</td>\n",
       "      <td>-1.072068</td>\n",
       "    </tr>\n",
       "  </tbody>\n",
       "</table>\n",
       "</div>"
      ],
      "text/plain": [
       "        drugs_m0-1  drugs_m1-2  drugs_m2-3  drugs_m3-4  drugs_m4-5  \\\n",
       "65120     1.958006    0.188135    3.776626    2.665179   -0.299566   \n",
       "80757     0.585937   -0.773589    5.737391   -1.621703   -3.133672   \n",
       "33296     1.502693    0.690316    0.167166    8.456645    0.425885   \n",
       "57389     0.749933    2.477138   -0.198292    3.401467    0.518273   \n",
       "53539     5.225592    4.514062    7.796477    2.020386    8.690966   \n",
       "105962    0.762437   -0.313689   -0.632526   -2.064454    0.991991   \n",
       "63626    -3.169719   -0.803697   -1.626294   -0.915257   -1.704646   \n",
       "25331     0.235342    1.016604    0.701735   -0.641619   -2.872390   \n",
       "43914     9.972240    4.355413    4.386734    8.093746    6.450401   \n",
       "15583    -4.413320    3.989456   -3.331540   -1.713259   -1.742046   \n",
       "\n",
       "        drugs_m5-6  drugs_m6-7  drugs_m7-8  drugs_m8-9  drugs_m9-10  \\\n",
       "65120     2.887607    3.710660    2.661699   -0.284659     5.324839   \n",
       "80757    -0.281444    3.060734   -0.285408    0.736153    -1.557619   \n",
       "33296     2.294744    4.787429    2.307580    3.470672     2.658492   \n",
       "57389     0.247849    1.625442   -2.543425    2.503456     3.103372   \n",
       "53539     6.999107    4.693729    6.748582   -0.354987     0.888967   \n",
       "105962   -0.716534    2.183639    1.282684    3.228870     0.757973   \n",
       "63626    -2.570588   -1.997563   -1.409359    2.482650    -2.151355   \n",
       "25331    -1.728725   -1.463615    7.023095    1.591572    -0.553682   \n",
       "43914     2.211224    4.536848    9.089450    0.552766     5.037592   \n",
       "15583    -1.511947    4.376543   -4.728465    3.287195    -1.262843   \n",
       "\n",
       "        drugs_m10-11  drugs_m11-12  \n",
       "65120       1.870653      6.921724  \n",
       "80757      -2.917845      1.869269  \n",
       "33296       2.111205      3.985114  \n",
       "57389       6.604357     -3.157616  \n",
       "53539      10.410497     -1.707247  \n",
       "105962      1.202927      2.211697  \n",
       "63626      -2.003834     -4.536789  \n",
       "25331       0.534067      0.335375  \n",
       "43914       6.416098      6.322598  \n",
       "15583       0.661943     -1.072068  "
      ]
     },
     "execution_count": 96,
     "metadata": {},
     "output_type": "execute_result"
    }
   ],
   "source": [
    "dm.head(10)"
   ]
  },
  {
   "cell_type": "code",
   "execution_count": 97,
   "metadata": {},
   "outputs": [],
   "source": [
    "dm[dm<0]=0"
   ]
  },
  {
   "cell_type": "code",
   "execution_count": 98,
   "metadata": {},
   "outputs": [],
   "source": [
    "def distort(fff):\n",
    "    trD = pd.DataFrame(fff)\n",
    "    sz=len(trD.index)\n",
    "    ELIX = (np.random.rand(sz,29) < 0.1).astype('int')\n",
    "    trD.loc[:][['ELIX1','ELIX2','ELIX3','ELIX4','ELIX5','ELIX6','ELIX7','ELIX8','ELIX9','ELIX10','ELIX11','ELIX12',\n",
    "     'ELIX13','ELIX14','ELIX15','ELIX16','ELIX17','ELIX18','ELIX19','ELIX20','ELIX21','ELIX22','ELIX23',\n",
    "     'ELIX24','ELIX25','ELIX26','ELIX27','ELIX28','ELIX29']] -= ELIX\n",
    "\n",
    "    trD.loc[:][['ELIX1','ELIX2','ELIX3','ELIX4','ELIX5','ELIX6','ELIX7','ELIX8','ELIX9','ELIX10','ELIX11','ELIX12',\n",
    "     'ELIX13','ELIX14','ELIX15','ELIX16','ELIX17','ELIX18','ELIX19','ELIX20','ELIX21','ELIX22','ELIX23',\n",
    "     'ELIX24','ELIX25','ELIX26','ELIX27','ELIX28','ELIX29']] = abs(trD.loc[:][['ELIX1','ELIX2','ELIX3','ELIX4','ELIX5','ELIX6','ELIX7','ELIX8','ELIX9','ELIX10','ELIX11','ELIX12',\n",
    "     'ELIX13','ELIX14','ELIX15','ELIX16','ELIX17','ELIX18','ELIX19','ELIX20','ELIX21','ELIX22','ELIX23',\n",
    "     'ELIX24','ELIX25','ELIX26','ELIX27','ELIX28','ELIX29']])\n",
    "    \n",
    "    G = (np.random.rand(sz,22) < 0.1).astype('int')\n",
    "\n",
    "    # modify the binary values\n",
    "    trD.loc[:][['G-2','G-3','G-4','G-5','G-6','G-7','G-8','G-9','G-10','G-11','G-12',\n",
    "     'G-13','G-14','G-15','G-16','G-17','G-18','G-19','G-20','G-21','G-22','G-23']] -= G\n",
    "\n",
    "    # take absolute value to fix -1s\n",
    "    trD.loc[:][['G-2','G-3','G-4','G-5','G-6','G-7','G-8','G-9','G-10','G-11','G-12',\n",
    "     'G-13','G-14','G-15','G-16','G-17','G-18','G-19','G-20','G-21','G-22','G-23']] = abs(trD.loc[:][['G-2','G-3','G-4','G-5','G-6','G-7','G-8','G-9','G-10','G-11','G-12',\n",
    "     'G-13','G-14','G-15','G-16','G-17','G-18','G-19','G-20','G-21','G-22','G-23']])\n",
    "\n",
    "    ageDv = trD['age'].std()\n",
    "    trD['age']+np.random.normal(0,ageDv,trD['age'].size)\n",
    "    \n",
    "    d = ['drugs_m0-1', 'drugs_m1-2', 'drugs_m2-3', 'drugs_m3-4', 'drugs_m4-5', 'drugs_m5-6', 'drugs_m6-7', \n",
    "              'drugs_m7-8', 'drugs_m8-9', 'drugs_m9-10', 'drugs_m10-11','drugs_m11-12']\n",
    "    drugsDv = trD[d].std(axis=0)\n",
    "    trD[d]=trD[d]+np.random.normal(0,1,(trD.index.size,12))*np.array(drugsDv)\n",
    "    return trD"
   ]
  },
  {
   "cell_type": "code",
   "execution_count": 99,
   "metadata": {},
   "outputs": [],
   "source": [
    "dst = []\n",
    "for i in range(10): \n",
    "    dst.append( distort(tr) )"
   ]
  },
  {
   "cell_type": "code",
   "execution_count": 100,
   "metadata": {},
   "outputs": [],
   "source": [
    "dstTr = pd.concat(dst)"
   ]
  },
  {
   "cell_type": "code",
   "execution_count": 101,
   "metadata": {},
   "outputs": [],
   "source": [
    "probs_l = lr.predict_proba(dstTr[cls])\n",
    "probs_r = rf.predict_proba(dstTr[cls])"
   ]
  },
  {
   "cell_type": "code",
   "execution_count": 102,
   "metadata": {},
   "outputs": [
    {
     "data": {
      "text/plain": [
       "[<matplotlib.lines.Line2D at 0x28216bd8a58>]"
      ]
     },
     "execution_count": 102,
     "metadata": {},
     "output_type": "execute_result"
    },
    {
     "data": {
      "image/png": "[encoded data removed]",
      "text/plain": [
       "<Figure size 432x288 with 1 Axes>"
      ]
     },
     "metadata": {},
     "output_type": "display_data"
    }
   ],
   "source": [
    "tr_res = pd.DataFrame()\n",
    "tr_res['age'] = dstTr['age']\n",
    "tr_res['lr'] = probs_l[:,1]\n",
    "tr_res['rf'] = probs_r[:,1]\n",
    "gr=tr_res.groupby('age')\n",
    "\n",
    "plt.plot(range(mina, maxa+1), list(gr['lr'].mean()))\n",
    "plt.plot(range(mina, maxa+1), list(gr['rf'].mean()))"
   ]
  },
  {
   "cell_type": "markdown",
   "metadata": {},
   "source": [
    "# Test how Logistic and Rnadom forest models hehave outside the original 65 -90 age range. Is it resonalble to assume that for such patients the mdoels will perform Correctly ?"
   ]
  },
  {
   "cell_type": "code",
   "execution_count": 23,
   "metadata": {},
   "outputs": [],
   "source": [
    "lr_ages = []\n",
    "rf_ages = []\n",
    "for age in range(18, 65):\n",
    "    lr_res = []\n",
    "    rf_res = []\n",
    "    for i in range(100):\n",
    "        ELIX = [np.random.randint(2) for i in range(29)]\n",
    "        G = [np.random.randint(2) for i in range(22)]\n",
    "        drugs = [np.random.randint(30) for i in range(12)] \n",
    "        A = 0\n",
    "        AmN = 0\n",
    "        B = 0\n",
    "        H = 0\n",
    "        O = 0\n",
    "        U = 0\n",
    "        W = 0\n",
    "        r = np.random.randint(7)\n",
    "        if r == 0:\n",
    "            A = 1\n",
    "        if r == 1:\n",
    "            AmN = 1\n",
    "        if r == 2:\n",
    "            B = 1\n",
    "        if r == 3:\n",
    "            H = 1\n",
    "        if r == 4:\n",
    "            O = 1\n",
    "        if r == 5:\n",
    "            U = 1\n",
    "        if r == 6:\n",
    "            W = 1    \n",
    "        d = [age] + ELIX + G + drugs + [A, AmN, B, H, O, U, W]\n",
    "        dat = [d]\n",
    "        lr_res.append(lr.predict_proba(dat)[:,1][0])\n",
    "        rf_res.append(rf.predict_proba(dat)[:,1][0])\n",
    "    lr_ages.append(sum(lr_res)/len(lr_res))\n",
    "    rf_ages.append(sum(rf_res)/len(rf_res))"
   ]
  },
  {
   "cell_type": "code",
   "execution_count": 24,
   "metadata": {},
   "outputs": [
    {
     "data": {
      "text/plain": [
       "[<matplotlib.lines.Line2D at 0x1c30ffbfa20>]"
      ]
     },
     "execution_count": 24,
     "metadata": {},
     "output_type": "execute_result"
    },
    {
     "data": {
      "image/png": "[encoded data removed]",
      "text/plain": [
       "<Figure size 432x288 with 1 Axes>"
      ]
     },
     "metadata": {},
     "output_type": "display_data"
    }
   ],
   "source": [
    "plt.plot(range(18,65), lr_ages)\n",
    "plt.plot(range(18,65), rf_ages)"
   ]
  },
  {
   "cell_type": "code",
   "execution_count": 26,
   "metadata": {},
   "outputs": [
    {
     "data": {
      "text/plain": [
       "(0.4601127058400247, 0.2580484321277141)"
      ]
     },
     "execution_count": 26,
     "metadata": {},
     "output_type": "execute_result"
    }
   ],
   "source": [
    "np.mean(lr_res),np.std(lr_res)"
   ]
  },
  {
   "cell_type": "markdown",
   "metadata": {},
   "source": [
    "# 2. Select randomly one patient from the data. Apply distortion of data to the patient 1000 times. Analyze probabilities output from the model for the distorted patient as compared with the original patient. Does the prediction/class change?"
   ]
  },
  {
   "cell_type": "code",
   "execution_count": 35,
   "metadata": {},
   "outputs": [],
   "source": [
    "random_Patient = tr[tr['index'] =='54197']"
   ]
  },
  {
   "cell_type": "code",
   "execution_count": 36,
   "metadata": {},
   "outputs": [],
   "source": [
    "def distort(fff):\n",
    "    trD = pd.DataFrame(fff)\n",
    "    sz=len(trD.index)\n",
    "    ELIX = (np.random.rand(sz,29) < 0.1).astype('int')\n",
    "    trD.loc[:][['ELIX1','ELIX2','ELIX3','ELIX4','ELIX5','ELIX6','ELIX7','ELIX8','ELIX9','ELIX10','ELIX11','ELIX12',\n",
    "     'ELIX13','ELIX14','ELIX15','ELIX16','ELIX17','ELIX18','ELIX19','ELIX20','ELIX21','ELIX22','ELIX23',\n",
    "     'ELIX24','ELIX25','ELIX26','ELIX27','ELIX28','ELIX29']] -= ELIX\n",
    "\n",
    "    trD.loc[:][['ELIX1','ELIX2','ELIX3','ELIX4','ELIX5','ELIX6','ELIX7','ELIX8','ELIX9','ELIX10','ELIX11','ELIX12',\n",
    "     'ELIX13','ELIX14','ELIX15','ELIX16','ELIX17','ELIX18','ELIX19','ELIX20','ELIX21','ELIX22','ELIX23',\n",
    "     'ELIX24','ELIX25','ELIX26','ELIX27','ELIX28','ELIX29']] = abs(trD.loc[:][['ELIX1','ELIX2','ELIX3','ELIX4','ELIX5','ELIX6','ELIX7','ELIX8','ELIX9','ELIX10','ELIX11','ELIX12',\n",
    "     'ELIX13','ELIX14','ELIX15','ELIX16','ELIX17','ELIX18','ELIX19','ELIX20','ELIX21','ELIX22','ELIX23',\n",
    "     'ELIX24','ELIX25','ELIX26','ELIX27','ELIX28','ELIX29']])\n",
    "    \n",
    "    G = (np.random.rand(sz,22) < 0.1).astype('int')\n",
    "\n",
    "    # modify the binary values\n",
    "    trD.loc[:][['G-2','G-3','G-4','G-5','G-6','G-7','G-8','G-9','G-10','G-11','G-12',\n",
    "     'G-13','G-14','G-15','G-16','G-17','G-18','G-19','G-20','G-21','G-22','G-23']] -= G\n",
    "\n",
    "    # take absolute value to fix -1s\n",
    "    trD.loc[:][['G-2','G-3','G-4','G-5','G-6','G-7','G-8','G-9','G-10','G-11','G-12',\n",
    "     'G-13','G-14','G-15','G-16','G-17','G-18','G-19','G-20','G-21','G-22','G-23']] = abs(trD.loc[:][['G-2','G-3','G-4','G-5','G-6','G-7','G-8','G-9','G-10','G-11','G-12',\n",
    "     'G-13','G-14','G-15','G-16','G-17','G-18','G-19','G-20','G-21','G-22','G-23']])\n",
    "\n",
    "    ageDv = trD['age'].std()\n",
    "    trD['age']+np.random.normal(0,ageDv,trD['age'].size)\n",
    "    \n",
    "    d = ['drugs_m0-1', 'drugs_m1-2', 'drugs_m2-3', 'drugs_m3-4', 'drugs_m4-5', 'drugs_m5-6', 'drugs_m6-7', \n",
    "              'drugs_m7-8', 'drugs_m8-9', 'drugs_m9-10', 'drugs_m10-11','drugs_m11-12']\n",
    "    drugsDv = trD[d].std(axis=0)\n",
    "    trD[d]=trD[d]+np.random.normal(0,1,(trD.index.size,12))*np.array(drugsDv)\n",
    "    return trD"
   ]
  },
  {
   "cell_type": "code",
   "execution_count": 51,
   "metadata": {},
   "outputs": [],
   "source": [
    "dst = []\n",
    "for i in range(10): \n",
    "    dst.append( distort(random_Patient) )"
   ]
  },
  {
   "cell_type": "code",
   "execution_count": 52,
   "metadata": {},
   "outputs": [],
   "source": [
    "dstTr = pd.concat(dst)"
   ]
  },
  {
   "cell_type": "code",
   "execution_count": 53,
   "metadata": {},
   "outputs": [
    {
     "data": {
      "text/plain": [
       "['drugs_m0-1',\n",
       " 'drugs_m1-2',\n",
       " 'drugs_m2-3',\n",
       " 'drugs_m3-4',\n",
       " 'drugs_m4-5',\n",
       " 'drugs_m5-6',\n",
       " 'drugs_m6-7',\n",
       " 'drugs_m7-8',\n",
       " 'drugs_m8-9',\n",
       " 'drugs_m9-10',\n",
       " 'drugs_m10-11',\n",
       " 'drugs_m11-12']"
      ]
     },
     "execution_count": 53,
     "metadata": {},
     "output_type": "execute_result"
    }
   ],
   "source": [
    "dstTr.columns[dstTr.isnull().any()].tolist()"
   ]
  },
  {
   "cell_type": "code",
   "execution_count": 48,
   "metadata": {},
   "outputs": [
    {
     "ename": "ValueError",
     "evalue": "Input contains NaN, infinity or a value too large for dtype('float64').",
     "output_type": "error",
     "traceback": [
      "\u001b[1;31m---------------------------------------------------------------------------\u001b[0m",
      "\u001b[1;31mValueError\u001b[0m                                Traceback (most recent call last)",
      "\u001b[1;32m<ipython-input-48-04278bf2a8fb>\u001b[0m in \u001b[0;36m<module>\u001b[1;34m()\u001b[0m\n\u001b[1;32m----> 1\u001b[1;33m \u001b[0mprobs_l\u001b[0m \u001b[1;33m=\u001b[0m \u001b[0mlr\u001b[0m\u001b[1;33m.\u001b[0m\u001b[0mpredict_proba\u001b[0m\u001b[1;33m(\u001b[0m\u001b[0mdstTr\u001b[0m\u001b[1;33m[\u001b[0m\u001b[0mcls\u001b[0m\u001b[1;33m]\u001b[0m\u001b[1;33m)\u001b[0m\u001b[1;33m\u001b[0m\u001b[0m\n\u001b[0m\u001b[0;32m      2\u001b[0m \u001b[0mprobs_r\u001b[0m \u001b[1;33m=\u001b[0m \u001b[0mrf\u001b[0m\u001b[1;33m.\u001b[0m\u001b[0mpredict_proba\u001b[0m\u001b[1;33m(\u001b[0m\u001b[0mdstTr\u001b[0m\u001b[1;33m[\u001b[0m\u001b[0mcls\u001b[0m\u001b[1;33m]\u001b[0m\u001b[1;33m)\u001b[0m\u001b[1;33m\u001b[0m\u001b[0m\n",
      "\u001b[1;32m~\\Anaconda3\\lib\\site-packages\\sklearn\\linear_model\\logistic.py\u001b[0m in \u001b[0;36mpredict_proba\u001b[1;34m(self, X)\u001b[0m\n\u001b[0;32m   1409\u001b[0m                                                 self.solver == 'liblinear')))\n\u001b[0;32m   1410\u001b[0m         \u001b[1;32mif\u001b[0m \u001b[0movr\u001b[0m\u001b[1;33m:\u001b[0m\u001b[1;33m\u001b[0m\u001b[0m\n\u001b[1;32m-> 1411\u001b[1;33m             \u001b[1;32mreturn\u001b[0m \u001b[0msuper\u001b[0m\u001b[1;33m(\u001b[0m\u001b[0mLogisticRegression\u001b[0m\u001b[1;33m,\u001b[0m \u001b[0mself\u001b[0m\u001b[1;33m)\u001b[0m\u001b[1;33m.\u001b[0m\u001b[0m_predict_proba_lr\u001b[0m\u001b[1;33m(\u001b[0m\u001b[0mX\u001b[0m\u001b[1;33m)\u001b[0m\u001b[1;33m\u001b[0m\u001b[0m\n\u001b[0m\u001b[0;32m   1412\u001b[0m         \u001b[1;32melse\u001b[0m\u001b[1;33m:\u001b[0m\u001b[1;33m\u001b[0m\u001b[0m\n\u001b[0;32m   1413\u001b[0m             \u001b[0mdecision\u001b[0m \u001b[1;33m=\u001b[0m \u001b[0mself\u001b[0m\u001b[1;33m.\u001b[0m\u001b[0mdecision_function\u001b[0m\u001b[1;33m(\u001b[0m\u001b[0mX\u001b[0m\u001b[1;33m)\u001b[0m\u001b[1;33m\u001b[0m\u001b[0m\n",
      "\u001b[1;32m~\\Anaconda3\\lib\\site-packages\\sklearn\\linear_model\\base.py\u001b[0m in \u001b[0;36m_predict_proba_lr\u001b[1;34m(self, X)\u001b[0m\n\u001b[0;32m    293\u001b[0m         \u001b[0mmulticlass\u001b[0m \u001b[1;32mis\u001b[0m \u001b[0mhandled\u001b[0m \u001b[0mby\u001b[0m \u001b[0mnormalizing\u001b[0m \u001b[0mthat\u001b[0m \u001b[0mover\u001b[0m \u001b[0mall\u001b[0m \u001b[0mclasses\u001b[0m\u001b[1;33m.\u001b[0m\u001b[1;33m\u001b[0m\u001b[0m\n\u001b[0;32m    294\u001b[0m         \"\"\"\n\u001b[1;32m--> 295\u001b[1;33m         \u001b[0mprob\u001b[0m \u001b[1;33m=\u001b[0m \u001b[0mself\u001b[0m\u001b[1;33m.\u001b[0m\u001b[0mdecision_function\u001b[0m\u001b[1;33m(\u001b[0m\u001b[0mX\u001b[0m\u001b[1;33m)\u001b[0m\u001b[1;33m\u001b[0m\u001b[0m\n\u001b[0m\u001b[0;32m    296\u001b[0m         \u001b[0mprob\u001b[0m \u001b[1;33m*=\u001b[0m \u001b[1;33m-\u001b[0m\u001b[1;36m1\u001b[0m\u001b[1;33m\u001b[0m\u001b[0m\n\u001b[0;32m    297\u001b[0m         \u001b[0mnp\u001b[0m\u001b[1;33m.\u001b[0m\u001b[0mexp\u001b[0m\u001b[1;33m(\u001b[0m\u001b[0mprob\u001b[0m\u001b[1;33m,\u001b[0m \u001b[0mprob\u001b[0m\u001b[1;33m)\u001b[0m\u001b[1;33m\u001b[0m\u001b[0m\n",
      "\u001b[1;32m~\\Anaconda3\\lib\\site-packages\\sklearn\\linear_model\\base.py\u001b[0m in \u001b[0;36mdecision_function\u001b[1;34m(self, X)\u001b[0m\n\u001b[0;32m    255\u001b[0m                                  \"yet\" % {'name': type(self).__name__})\n\u001b[0;32m    256\u001b[0m \u001b[1;33m\u001b[0m\u001b[0m\n\u001b[1;32m--> 257\u001b[1;33m         \u001b[0mX\u001b[0m \u001b[1;33m=\u001b[0m \u001b[0mcheck_array\u001b[0m\u001b[1;33m(\u001b[0m\u001b[0mX\u001b[0m\u001b[1;33m,\u001b[0m \u001b[0maccept_sparse\u001b[0m\u001b[1;33m=\u001b[0m\u001b[1;34m'csr'\u001b[0m\u001b[1;33m)\u001b[0m\u001b[1;33m\u001b[0m\u001b[0m\n\u001b[0m\u001b[0;32m    258\u001b[0m \u001b[1;33m\u001b[0m\u001b[0m\n\u001b[0;32m    259\u001b[0m         \u001b[0mn_features\u001b[0m \u001b[1;33m=\u001b[0m \u001b[0mself\u001b[0m\u001b[1;33m.\u001b[0m\u001b[0mcoef_\u001b[0m\u001b[1;33m.\u001b[0m\u001b[0mshape\u001b[0m\u001b[1;33m[\u001b[0m\u001b[1;36m1\u001b[0m\u001b[1;33m]\u001b[0m\u001b[1;33m\u001b[0m\u001b[0m\n",
      "\u001b[1;32m~\\Anaconda3\\lib\\site-packages\\sklearn\\utils\\validation.py\u001b[0m in \u001b[0;36mcheck_array\u001b[1;34m(array, accept_sparse, accept_large_sparse, dtype, order, copy, force_all_finite, ensure_2d, allow_nd, ensure_min_samples, ensure_min_features, warn_on_dtype, estimator)\u001b[0m\n\u001b[0;32m    571\u001b[0m         \u001b[1;32mif\u001b[0m \u001b[0mforce_all_finite\u001b[0m\u001b[1;33m:\u001b[0m\u001b[1;33m\u001b[0m\u001b[0m\n\u001b[0;32m    572\u001b[0m             _assert_all_finite(array,\n\u001b[1;32m--> 573\u001b[1;33m                                allow_nan=force_all_finite == 'allow-nan')\n\u001b[0m\u001b[0;32m    574\u001b[0m \u001b[1;33m\u001b[0m\u001b[0m\n\u001b[0;32m    575\u001b[0m     \u001b[0mshape_repr\u001b[0m \u001b[1;33m=\u001b[0m \u001b[0m_shape_repr\u001b[0m\u001b[1;33m(\u001b[0m\u001b[0marray\u001b[0m\u001b[1;33m.\u001b[0m\u001b[0mshape\u001b[0m\u001b[1;33m)\u001b[0m\u001b[1;33m\u001b[0m\u001b[0m\n",
      "\u001b[1;32m~\\Anaconda3\\lib\\site-packages\\sklearn\\utils\\validation.py\u001b[0m in \u001b[0;36m_assert_all_finite\u001b[1;34m(X, allow_nan)\u001b[0m\n\u001b[0;32m     54\u001b[0m                 not allow_nan and not np.isfinite(X).all()):\n\u001b[0;32m     55\u001b[0m             \u001b[0mtype_err\u001b[0m \u001b[1;33m=\u001b[0m \u001b[1;34m'infinity'\u001b[0m \u001b[1;32mif\u001b[0m \u001b[0mallow_nan\u001b[0m \u001b[1;32melse\u001b[0m \u001b[1;34m'NaN, infinity'\u001b[0m\u001b[1;33m\u001b[0m\u001b[0m\n\u001b[1;32m---> 56\u001b[1;33m             \u001b[1;32mraise\u001b[0m \u001b[0mValueError\u001b[0m\u001b[1;33m(\u001b[0m\u001b[0mmsg_err\u001b[0m\u001b[1;33m.\u001b[0m\u001b[0mformat\u001b[0m\u001b[1;33m(\u001b[0m\u001b[0mtype_err\u001b[0m\u001b[1;33m,\u001b[0m \u001b[0mX\u001b[0m\u001b[1;33m.\u001b[0m\u001b[0mdtype\u001b[0m\u001b[1;33m)\u001b[0m\u001b[1;33m)\u001b[0m\u001b[1;33m\u001b[0m\u001b[0m\n\u001b[0m\u001b[0;32m     57\u001b[0m \u001b[1;33m\u001b[0m\u001b[0m\n\u001b[0;32m     58\u001b[0m \u001b[1;33m\u001b[0m\u001b[0m\n",
      "\u001b[1;31mValueError\u001b[0m: Input contains NaN, infinity or a value too large for dtype('float64')."
     ]
    }
   ],
   "source": [
    "probs_l = lr.predict_proba(dstTr[cls])\n",
    "probs_r = rf.predict_proba(dstTr[cls])"
   ]
  },
  {
   "cell_type": "code",
   "execution_count": null,
   "metadata": {},
   "outputs": [],
   "source": [
    "tr_res = pd.DataFrame()\n",
    "tr_res['age'] = dstTr['age']\n",
    "tr_res['lr'] = probs_l[:,1]\n",
    "tr_res['rf'] = probs_r[:,1]\n",
    "gr=tr_res.groupby('age')\n",
    "\n",
    "plt.plot(range(mina, maxa+1), list(gr['lr'].mean()))\n",
    "plt.plot(range(mina, maxa+1), list(gr['rf'].mean()))"
   ]
  }
 ],
 "metadata": {
  "kernelspec": {
   "display_name": "Python 3",
   "language": "python",
   "name": "python3"
  },
  "language_info": {
   "codemirror_mode": {
    "name": "ipython",
    "version": 3
   },
   "file_extension": ".py",
   "mimetype": "text/x-python",
   "name": "python",
   "nbconvert_exporter": "python",
   "pygments_lexer": "ipython3",
   "version": "3.6.5"
  }
 },
 "nbformat": 4,
 "nbformat_minor": 2
}
