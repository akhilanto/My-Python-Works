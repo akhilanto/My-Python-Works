{
 "cells": [
  {
   "cell_type": "code",
   "execution_count": 1,
   "metadata": {},
   "outputs": [],
   "source": [
    "import pandas as pd\n",
    "from sklearn.feature_extraction.text import CountVectorizer\n",
    "import re\n",
    "import string\n",
    "import nltk\n",
    "pd.set_option('display.max_colwidth',100 )\n",
    "from sklearn.feature_extraction.text import CountVectorizer"
   ]
  },
  {
   "cell_type": "code",
   "execution_count": 13,
   "metadata": {},
   "outputs": [],
   "source": [
    "data= pd.read_excel(\"C:\\\\Users\\\\akhil\\\\Desktop\\\\Research\\\\cleanedlatest.xls\")"
   ]
  },
  {
   "cell_type": "code",
   "execution_count": 14,
   "metadata": {},
   "outputs": [],
   "source": [
    "df = data.head(1000)"
   ]
  },
  {
   "cell_type": "code",
   "execution_count": 27,
   "metadata": {},
   "outputs": [],
   "source": [
    "my_list = df[\"Title\"].values"
   ]
  },
  {
   "cell_type": "code",
   "execution_count": 3,
   "metadata": {},
   "outputs": [],
   "source": [
    "stopwords = nltk.corpus.stopwords.words('english')\n",
    "ps = nltk.PorterStemmer()\n",
    "wn = nltk.WordNetLemmatizer()"
   ]
  },
  {
   "cell_type": "code",
   "execution_count": 4,
   "metadata": {},
   "outputs": [],
   "source": [
    "def clean_textmain(text):\n",
    "    text = text.lower()\n",
    "    text =\"\".join([char for char in text if char not in string.punctuation ])\n",
    "    text=re.sub(r'\\b\\w{1,4}\\b', '',text)\n",
    "    result = re.sub(r'[0-9]+','',text)\n",
    "    tokens = re.split('\\W+', result)\n",
    "    words = [word for word in tokens if word.isalpha()]\n",
    "    text1=[word for word in words if word not in string.digits]\n",
    "    #text = [ps.stem(word) for word in text1 if word not in stopwords]\n",
    "    text = [wn.lemmatize(word) for word in text1 if word not in stopwords]\n",
    "    return text"
   ]
  },
  {
   "cell_type": "code",
   "execution_count": 5,
   "metadata": {},
   "outputs": [],
   "source": [
    "datum = pd.DataFrame(data['Title'].apply(clean_textmain))"
   ]
  },
  {
   "cell_type": "code",
   "execution_count": 6,
   "metadata": {},
   "outputs": [],
   "source": [
    "datum = datum.head(1000)"
   ]
  },
  {
   "cell_type": "code",
   "execution_count": 8,
   "metadata": {},
   "outputs": [
    {
     "name": "stderr",
     "output_type": "stream",
     "text": [
      "C:\\Users\\akhil\\Anaconda3\\lib\\site-packages\\gensim\\utils.py:1209: UserWarning: detected Windows; aliasing chunkize to chunkize_serial\n",
      "  warnings.warn(\"detected Windows; aliasing chunkize to chunkize_serial\")\n"
     ]
    }
   ],
   "source": [
    "import gensim\n",
    "from gensim import corpora"
   ]
  },
  {
   "cell_type": "code",
   "execution_count": 21,
   "metadata": {},
   "outputs": [],
   "source": [
    "def clean(doc):\n",
    "    stop_free = \" \".join([i for i in doc.lower().split() if i not in stopwords])\n",
    "    punc_free = ''.join(ch for ch in stop_free if ch not in string.punctuation)\n",
    "    normalized = \" \".join(wn.lemmatize(word) for word in punc_free.split())\n",
    "    return normalized"
   ]
  },
  {
   "cell_type": "code",
   "execution_count": 29,
   "metadata": {},
   "outputs": [],
   "source": [
    "doc_clean = [clean(doc).split() for doc in my_list]"
   ]
  },
  {
   "cell_type": "code",
   "execution_count": 30,
   "metadata": {},
   "outputs": [],
   "source": [
    "dictionary = corpora.Dictionary(doc_clean)"
   ]
  },
  {
   "cell_type": "code",
   "execution_count": 31,
   "metadata": {},
   "outputs": [
    {
     "name": "stdout",
     "output_type": "stream",
     "text": [
      "Dictionary(2726 unique tokens: ['architecture', 'gpu', 'memory', 'software', 'transactional']...)\n"
     ]
    }
   ],
   "source": [
    "print(dictionary)"
   ]
  },
  {
   "cell_type": "code",
   "execution_count": 34,
   "metadata": {},
   "outputs": [],
   "source": [
    "Lda = gensim.models.ldamodel.LdaModel"
   ]
  },
  {
   "cell_type": "code",
   "execution_count": 40,
   "metadata": {},
   "outputs": [
    {
     "name": "stderr",
     "output_type": "stream",
     "text": [
      "C:\\Users\\akhil\\Anaconda3\\lib\\site-packages\\gensim\\models\\ldamodel.py:1023: RuntimeWarning: divide by zero encountered in log\n",
      "  diff = np.log(self.expElogbeta)\n"
     ]
    }
   ],
   "source": [
    "ldamodel = Lda(doc_term_matrix, num_topics=100, id2word = dictionary, passes=50)"
   ]
  },
  {
   "cell_type": "code",
   "execution_count": 41,
   "metadata": {},
   "outputs": [
    {
     "name": "stdout",
     "output_type": "stream",
     "text": [
      "[(0, '0.031*\"power\" + 0.028*\"analysis\" + 0.021*\"generating\"'), (1, '0.019*\"vulnerability\" + 0.019*\"gpu\" + 0.019*\"block\"'), (2, '0.025*\"architecture\" + 0.025*\"data\" + 0.025*\"detection\"'), (3, '0.028*\"data\" + 0.028*\"application\" + 0.018*\"oblivious\"'), (4, '0.036*\"benchmarking\" + 0.018*\"design\" + 0.018*\"detection\"'), (5, '0.022*\"browser\" + 0.011*\"attack\" + 0.011*\"highly\"'), (6, '0.050*\"control\" + 0.030*\"flow\" + 0.020*\"memory\"'), (7, '0.020*\"hierarchical\" + 0.020*\"hardware\" + 0.020*\"sidechannel\"'), (8, '0.035*\"application\" + 0.023*\"concurrent\" + 0.012*\"wild\"'), (9, '0.016*\"library\" + 0.016*\"zerocash\" + 0.016*\"bitcoin\"'), (10, '0.049*\"model\" + 0.037*\"analysis\" + 0.013*\"hardware\"'), (11, '0.027*\"system\" + 0.018*\"secure\" + 0.018*\"scalable\"'), (12, '0.022*\"via\" + 0.022*\"quantum\" + 0.022*\"architecture\"'), (13, '0.025*\"security\" + 0.021*\"memory\" + 0.017*\"performance\"'), (14, '0.050*\"system\" + 0.040*\"operating\" + 0.030*\"workload\"'), (15, '0.022*\"research\" + 0.022*\"sok\" + 0.011*\"numa\"'), (16, '0.021*\"technique\" + 0.021*\"copy\" + 0.021*\"password\"'), (17, '0.024*\"analysis\" + 0.018*\"memory\" + 0.018*\"execution\"'), (18, '0.038*\"memory\" + 0.023*\"attack\" + 0.023*\"key\"'), (19, '0.034*\"application\" + 0.017*\"verification\" + 0.017*\"approximation\"'), (20, '0.038*\"security\" + 0.025*\"privacy\" + 0.025*\"memory\"'), (21, '0.026*\"neural\" + 0.026*\"detection\" + 0.026*\"attack\"'), (22, '0.026*\"dynamic\" + 0.026*\"software\" + 0.026*\"framework\"'), (23, '0.032*\"using\" + 0.021*\"code\" + 0.021*\"hardware\"'), (24, '0.017*\"inference\" + 0.017*\"android\" + 0.017*\"benchmark\"'), (25, '0.030*\"security\" + 0.020*\"privacy\" + 0.020*\"scalable\"'), (26, '0.035*\"implementation\" + 0.023*\"vulnerability\" + 0.023*\"system\"'), (27, '0.150*\"workload\" + 0.076*\"characterization\" + 0.036*\"memory\"'), (28, '0.036*\"disk\" + 0.018*\"printer\" + 0.018*\"skyfire\"'), (29, '0.020*\"heterogeneous\" + 0.020*\"analysis\" + 0.020*\"graph\"'), (30, '0.038*\"code\" + 0.028*\"attack\" + 0.019*\"communication\"'), (31, '0.033*\"attack\" + 0.033*\"sidechannel\" + 0.016*\"signature\"'), (32, '0.022*\"trojan\" + 0.022*\"detection\" + 0.022*\"runtime\"'), (33, '0.019*\"analysis\" + 0.009*\"game\" + 0.009*\"sensitivity\"'), (34, '0.037*\"attack\" + 0.028*\"rowhammer\" + 0.018*\"memory\"'), (35, '0.022*\"machine\" + 0.022*\"learning\" + 0.022*\"privacypreserving\"'), (36, '0.028*\"user\" + 0.019*\"access\" + 0.019*\"control\"'), (37, '0.017*\"language\" + 0.017*\"characterization\" + 0.017*\"typed\"'), (38, '0.044*\"attack\" + 0.034*\"protection\" + 0.034*\"virtualization\"'), (39, '0.044*\"state\" + 0.015*\"security\" + 0.015*\"program\"'), (40, '0.026*\"analysis\" + 0.026*\"static\" + 0.017*\"memory\"'), (41, '0.022*\"structure\" + 0.022*\"data\" + 0.022*\"system\"'), (42, '0.047*\"neural\" + 0.047*\"network\" + 0.024*\"authentication\"'), (43, '0.019*\"using\" + 0.019*\"sidechannel\" + 0.019*\"language\"'), (44, '0.024*\"efficient\" + 0.024*\"memory\" + 0.024*\"storage\"'), (45, '0.033*\"memory\" + 0.033*\"workload\" + 0.033*\"realtime\"'), (46, '0.033*\"analysis\" + 0.029*\"address\" + 0.029*\"driver\"'), (47, '0.022*\"code\" + 0.022*\"generation\" + 0.011*\"computation\"'), (48, '0.048*\"security\" + 0.029*\"overhead\" + 0.029*\"property\"'), (49, '0.023*\"analyzing\" + 0.023*\"storage\" + 0.023*\"fault\"'), (50, '0.043*\"characterizing\" + 0.011*\"useful\" + 0.011*\"internetwide\"'), (51, '0.024*\"analysis\" + 0.024*\"attack\" + 0.024*\"synthesizing\"'), (52, '0.030*\"via\" + 0.030*\"key\" + 0.015*\"specialization\"'), (53, '0.039*\"system\" + 0.019*\"efficient\" + 0.019*\"automatic\"'), (54, '0.031*\"architecture\" + 0.031*\"secure\" + 0.020*\"pufs\"'), (55, '0.026*\"detection\" + 0.017*\"attack\" + 0.017*\"javascript\"'), (56, '0.043*\"security\" + 0.034*\"analysis\" + 0.017*\"privacy\"'), (57, '0.020*\"system\" + 0.020*\"analysis\" + 0.020*\"efficient\"'), (58, '0.032*\"attack\" + 0.032*\"system\" + 0.021*\"based\"'), (59, '0.017*\"formally\" + 0.017*\"verified\" + 0.017*\"micropolicies\"'), (60, '0.021*\"memory\" + 0.021*\"flexible\" + 0.021*\"hardware\"'), (61, '0.033*\"hardware\" + 0.022*\"technique\" + 0.022*\"detection\"'), (62, '0.044*\"detection\" + 0.027*\"memory\" + 0.027*\"learning\"'), (63, '0.019*\"detection\" + 0.019*\"security\" + 0.019*\"anonymity\"'), (64, '0.021*\"infrastructure\" + 0.010*\"main\" + 0.010*\"impact\"'), (65, '0.033*\"single\" + 0.033*\"assignment\" + 0.017*\"using\"'), (66, '0.024*\"system\" + 0.012*\"model\" + 0.012*\"violation\"'), (67, '0.022*\"secure\" + 0.011*\"voltage\" + 0.011*\"camouflaged\"'), (68, '0.027*\"ecdsa\" + 0.027*\"program\" + 0.027*\"analysis\"'), (69, '0.034*\"efficient\" + 0.019*\"workload\" + 0.017*\"energy\"'), (70, '0.020*\"energy\" + 0.020*\"processor\" + 0.020*\"organization\"'), (71, '0.019*\"model\" + 0.013*\"hardware\" + 0.013*\"using\"'), (72, '0.019*\"system\" + 0.019*\"attack\" + 0.019*\"automatically\"'), (73, '0.023*\"application\" + 0.023*\"threshold\" + 0.023*\"correct\"'), (74, '0.020*\"algorithm\" + 0.010*\"significance\" + 0.010*\"gpus\"'), (75, '0.028*\"secure\" + 0.014*\"hardware\" + 0.014*\"design\"'), (76, '0.021*\"big\" + 0.021*\"machine\" + 0.021*\"memory\"'), (77, '0.025*\"power\" + 0.025*\"cookie\" + 0.013*\"datacenters\"'), (78, '0.026*\"using\" + 0.017*\"security\" + 0.017*\"memory\"'), (79, '0.026*\"card\" + 0.026*\"detecting\" + 0.026*\"using\"'), (80, '0.026*\"workload\" + 0.026*\"performance\" + 0.026*\"gpu\"'), (81, '0.025*\"performance\" + 0.025*\"model\" + 0.017*\"black\"'), (82, '0.014*\"lifting\" + 0.014*\"attack\" + 0.014*\"different\"'), (83, '0.029*\"function\" + 0.029*\"unclonable\" + 0.029*\"physical\"'), (84, '0.021*\"computation\" + 0.021*\"programming\" + 0.021*\"global\"'), (85, '0.023*\"analysis\" + 0.016*\"system\" + 0.016*\"using\"'), (86, '0.027*\"routing\" + 0.013*\"sram\" + 0.013*\"silicon\"'), (87, '0.036*\"analysis\" + 0.018*\"energy\" + 0.018*\"bug\"'), (88, '0.025*\"model\" + 0.017*\"world\" + 0.017*\"protection\"'), (89, '0.031*\"scaleout\" + 0.026*\"memory\" + 0.023*\"computer\"'), (90, '0.034*\"memory\" + 0.023*\"rowhammer\" + 0.011*\"failureatomic\"'), (91, '0.049*\"platform\" + 0.033*\"study\" + 0.033*\"model\"'), (92, '0.038*\"system\" + 0.025*\"approach\" + 0.025*\"attack\"'), (93, '0.040*\"cloud\" + 0.021*\"workload\" + 0.020*\"using\"'), (94, '0.027*\"coherence\" + 0.014*\"quick\" + 0.014*\"code\"'), (95, '0.024*\"duplication\" + 0.024*\"code\" + 0.012*\"strengthen\"'), (96, '0.018*\"key\" + 0.018*\"based\" + 0.009*\"attack\"'), (97, '0.023*\"gpus\" + 0.023*\"network\" + 0.023*\"page\"'), (98, '0.023*\"linux\" + 0.023*\"program\" + 0.023*\"loop\"'), (99, '0.017*\"locality\" + 0.017*\"leakage\" + 0.017*\"firmware\"')]\n"
     ]
    }
   ],
   "source": [
    "print(ldamodel.print_topics(num_topics=100, num_words=3))"
   ]
  },
  {
   "cell_type": "code",
   "execution_count": null,
   "metadata": {},
   "outputs": [],
   "source": []
  }
 ],
 "metadata": {
  "kernelspec": {
   "display_name": "Python 3",
   "language": "python",
   "name": "python3"
  },
  "language_info": {
   "codemirror_mode": {
    "name": "ipython",
    "version": 3
   },
   "file_extension": ".py",
   "mimetype": "text/x-python",
   "name": "python",
   "nbconvert_exporter": "python",
   "pygments_lexer": "ipython3",
   "version": "3.6.5"
  }
 },
 "nbformat": 4,
 "nbformat_minor": 2
}
